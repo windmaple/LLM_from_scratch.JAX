{
  "cells": [
    {
      "cell_type": "markdown",
      "metadata": {
        "id": "wXMWNV2Rw-wE"
      },
      "source": [
        "# Converting the LLama 3.2 1B model from Hugging Face to JAX\n",
        "\n",
        "This tutorial demonstrates to convert Meta's [Llama 3.2 1B model](https://huggingface.co/meta-llama/Llama-3.2-1B) from Hugging Face to a JAX model and run it with KV Cache enabled."
      ]
    },
    {
      "cell_type": "markdown",
      "metadata": {
        "id": "Iuq-_y1qyXLF"
      },
      "source": [
        "## Setup\n",
        "\n",
        "Let's install the `jax-ai-stack`, we'll use the `jax` and `flax` libraries from the stack in this tutorial. We will also need `huggingface_hub` for downloading model weights and `transformers` for tokenization."
      ]
    },
    {
      "cell_type": "code",
      "execution_count": 1,
      "metadata": {
        "id": "q5ueiKcIw8Sl"
      },
      "outputs": [],
      "source": [
        "!pip install -q jax-ai-stack\n",
        "!pip install -Uq transformers huggingface_hub\n",
        "from google.colab import userdata\n",
        "import os\n",
        "os.environ['HF_TOKEN'] = userdata.get('HF_TOKEN')"
      ]
    },
    {
      "cell_type": "markdown",
      "metadata": {
        "id": "dLCAc5Wbyl4N"
      },
      "source": [
        "Take care of the imports."
      ]
    },
    {
      "cell_type": "code",
      "execution_count": 1,
      "metadata": {
        "colab": {
          "base_uri": "https://localhost:8080/"
        },
        "id": "VnGrbnX1yjsQ",
        "outputId": "29d95411-6182-49d1-d41c-d21523d4d0a2"
      },
      "outputs": [],
      "source": [
        "import jax\n",
        "import jax.numpy as jnp\n",
        "from flax import nnx\n",
        "from safetensors import safe_open\n",
        "from pathlib import Path\n",
        "import os\n",
        "from huggingface_hub import snapshot_download\n",
        "from transformers import AutoTokenizer\n",
        "from dataclasses import dataclass\n",
        "from typing import TypedDict"
      ]
    },
    {
      "cell_type": "markdown",
      "metadata": {
        "id": "7oUeDSNozsF0"
      },
      "source": [
        "## Define the configuration"
      ]
    },
    {
      "cell_type": "markdown",
      "metadata": {
        "id": "ZlmwhxkcyD9V"
      },
      "source": [
        "The Hugging Face Transformers library has [some tips for using the Llama3 model](https://huggingface.co/docs/transformers/main/en/model_doc/llama3). For further reference, the modeling code in the transformers library lives in the [`models/llama/modeling_llama.py` file](https://github.com/huggingface/transformers/blob/main/src/transformers/models/llama/modeling_llama.py).\n",
        "\n",
        "Before we create the model in JAX, we need to define some parameters. You can refer to the [Llama2 documentation for the configuration options](https://huggingface.co/docs/transformers/main/en/model_doc/llama2#transformers.LlamaConfig)."
      ]
    },
    {
      "cell_type": "code",
      "execution_count": 2,
      "metadata": {
        "id": "9WErwCTtzv7x"
      },
      "outputs": [],
      "source": [
        "@dataclass\n",
        "class LlamaConfig:\n",
        "    def __init__(self):\n",
        "        self.dim = 2048\n",
        "        self.n_layers = 16\n",
        "        self.n_heads = 32\n",
        "        self.n_kv_heads = 8\n",
        "        self.head_dim = self.dim // self.n_heads\n",
        "        self.intermediate_size = 14336\n",
        "        self.vocab_size = 128256\n",
        "        self.multiple_of = 256\n",
        "        self.norm_eps = 1e-05\n",
        "        self.rope_theta = 500000.0\n",
        "\n",
        "config = LlamaConfig()"
      ]
    },
    {
      "cell_type": "markdown",
      "metadata": {
        "id": "mRNFx-eBywHO"
      },
      "source": [
        "## Load the model weights\n",
        "\n",
        "We'll use the transformers library to download the model weights.\n",
        "\n",
        "Meta requires [acceptance of the license](https://huggingface.co/meta-llama/Meta-Llama-3-8B-Instruct/discussions/130) before you can access the files. You will also need a Hugging Face access token, please refer to [Hugging Face documentation](https://huggingface.co/docs/hub/en/security-tokens) to set it up."
      ]
    },
    {
      "cell_type": "code",
      "execution_count": null,
      "metadata": {
        "colab": {
          "base_uri": "https://localhost:8080/",
          "height": 67,
          "referenced_widgets": [
            "8b45db38cdf04df1b9c547bec11a9edb",
            "00917f75ce114366b3be1d7484e0ea0c",
            "93d23e50e428487b916cf7ef50c07a57",
            "8121f70945b54d6f82e30ea19b0b32fd",
            "45a36de4527846dd87db3043c48c8de2",
            "8abd805fdb3644b09e0db77e1b80cbf4",
            "20f6e3bbbcf24b75b14a32079c2400eb",
            "ceb9d0d9f8fc4a4fa2c9dc7fcbbb1a7b",
            "e030fe36da5b492a80578233c5b0e547",
            "1479fc301f20413da9a3bba44a33ebd6",
            "8cf633b9f3194043bdf06b3238e082a3"
          ]
        },
        "id": "oVAJOEEOzEA9",
        "outputId": "374a4b8f-f781-4370-d424-8a3181fe60fa"
      },
      "outputs": [
        {
          "data": {
            "application/vnd.jupyter.widget-view+json": {
              "model_id": "d0d1773655074db2a70ae1bf271915ec",
              "version_major": 2,
              "version_minor": 0
            },
            "text/plain": [
              "Fetching 1 files:   0%|          | 0/1 [00:00<?, ?it/s]"
            ]
          },
          "metadata": {},
          "output_type": "display_data"
        },
        {
          "data": {
            "text/plain": [
              "'/content/meta-llama/Llama-3.2-1B-instruct'"
            ]
          },
          "execution_count": 3,
          "metadata": {},
          "output_type": "execute_result"
        }
      ],
      "source": [
        "model_id = \"meta-llama/Llama-3.2-1B-instruct\"\n",
        "if os.path.exists('/kaggle'):\n",
        "    weights_base_dir = '/kaggle/tmp'\n",
        "elif os.path.exists('/content'):\n",
        "    # Colab\n",
        "    weights_base_dir = '/content'\n",
        "else:\n",
        "    # Local machine\n",
        "    weights_base_dir = '.'\n",
        "\n",
        "path_to_model_weights = os.path.join(weights_base_dir, model_id)\n",
        "\n",
        "snapshot_download(repo_id=model_id, local_dir=path_to_model_weights, allow_patterns=[\"*.safetensors\"])"
      ]
    },
    {
      "cell_type": "markdown",
      "metadata": {
        "id": "4Xo6QyVR0UkF"
      },
      "source": [
        "Then extract the model weights from the safetensors file and store them in the `weights` dict. These weights will be loaded into our JAX model soon."
      ]
    },
    {
      "cell_type": "code",
      "execution_count": null,
      "metadata": {
        "id": "pERpzsPS0fLj"
      },
      "outputs": [],
      "source": [
        "def load_safetensors():\n",
        "    weights = {}\n",
        "    safetensors_files = Path(path_to_model_weights).glob('*.safetensors')\n",
        "\n",
        "    for file in safetensors_files:\n",
        "        with safe_open(file, framework=\"jax\", device=\"cpu\") as f:\n",
        "            for key in f.keys():\n",
        "                weights[key] = f.get_tensor(key)\n",
        "    return weights\n",
        "\n",
        "weights = load_safetensors()"
      ]
    },
    {
      "cell_type": "markdown",
      "metadata": {
        "id": "6ToKOCWIPJl1"
      },
      "source": [
        "Note that the weights are stored as `bfloat16`."
      ]
    },
    {
      "cell_type": "markdown",
      "metadata": {
        "id": "vQ7Bmvj70jjA"
      },
      "source": [
        "## Define the Flax model"
      ]
    },
    {
      "cell_type": "markdown",
      "metadata": {
        "id": "HdHQwfSO1xfY"
      },
      "source": [
        "Now we can define the model in Flax.\n",
        "\n",
        "[This Transformer vs Llama diagram](https://docs.nvidia.com/deeplearning/transformer-engine/user-guide/_images/transformer_vs_llama.svg) from Nvidia visualizes the model architecture pretty nicely. We will define each layer using [Flax's NNX.Module](https://flax.readthedocs.io/en/latest/api_reference/flax.nnx/module.html#flax.nnx.Module).\n",
        "\n",
        "We will start by defining the RMS normalization layer. Note how we load the parameters from the `weights` dict."
      ]
    },
    {
      "cell_type": "code",
      "execution_count": null,
      "metadata": {
        "id": "8Zi7p42-0qya"
      },
      "outputs": [],
      "source": [
        "class LlamaRMSNorm(nnx.Module):\n",
        "\n",
        "    def __init__(self, name=None, layer_idx=None, rngs=None):\n",
        "        if name is None and layer_idx is None:\n",
        "            # Final normalization layer\n",
        "            self.norm_weights = nnx.Param(weights[\"model.norm.weight\"], rngs=rngs)\n",
        "        else:\n",
        "            self.norm_weights = nnx.Param(weights[f\"model.layers.{layer_idx}.{name}.weight\"], rngs=rngs)\n",
        "\n",
        "    def __call__(self, hidden_states):\n",
        "        input_dtype = hidden_states.dtype\n",
        "        hidden_states = hidden_states.astype(jnp.float32)\n",
        "        squared_mean = jnp.mean(jnp.square(hidden_states), axis=-1, keepdims=True)\n",
        "        hidden_states = hidden_states * jnp.reciprocal(jnp.sqrt(squared_mean + config.norm_eps))\n",
        "        return self.norm_weights * hidden_states.astype(input_dtype)"
      ]
    },
    {
      "cell_type": "markdown",
      "metadata": {
        "id": "8ZecTSm_2SVT"
      },
      "source": [
        "Llama 3 uses [Rotary Position Embedding (RoPE)](https://arxiv.org/abs/2104.09864) to encode both token and positional embeddings. For a gentle introduction to RoPE, please refer to the [CMU lecture slides](https://www.cs.cmu.edu/~mgormley/courses/10423-s24//slides/lecture5-vit-ink.pdf) and this awesome [EleutherAI blog](https://blog.eleuther.ai/rotary-embeddings/)."
      ]
    },
    {
      "cell_type": "code",
      "execution_count": null,
      "metadata": {
        "id": "ZgrersK60ycn"
      },
      "outputs": [],
      "source": [
        "class LlamaRotaryEmbedding(nnx.Module):\n",
        "\n",
        "    def __init__(self, dim, base=10000, rngs=None):\n",
        "        self.dim = dim\n",
        "        self.base = base\n",
        "\n",
        "    def __call__(self, position_ids):\n",
        "        inv_freq = 1.0 / (self.base ** (jnp.arange(0, self.dim, 2, dtype=jnp.float32) / self.dim))\n",
        "        inv_freq_expanded = jnp.expand_dims(inv_freq, axis=(0, 1))\n",
        "        position_ids_expanded = jnp.expand_dims(position_ids, axis=(0, 2)).astype(jnp.float32)\n",
        "        freqs = jnp.einsum('bij,bjk->bijk', position_ids_expanded, inv_freq_expanded)\n",
        "        emb = jnp.concatenate([freqs, freqs], axis=-1)\n",
        "        cos = jnp.cos(emb).squeeze(2).astype(jnp.bfloat16)\n",
        "        sin = jnp.sin(emb).squeeze(2).astype(jnp.bfloat16)\n",
        "        return cos, sin"
      ]
    },
    {
      "cell_type": "markdown",
      "metadata": {
        "id": "8omcCyDO4OdS"
      },
      "source": [
        "Now we create the attention layers. Note how we load the weights into the q, k and v projection layers."
      ]
    },
    {
      "cell_type": "code",
      "execution_count": null,
      "metadata": {
        "id": "vkPG8ILr0zwg"
      },
      "outputs": [],
      "source": [
        "\n",
        "class KVCache(TypedDict):\n",
        "    key: jax.Array\n",
        "    value: jax.Array\n",
        "\n",
        "class LlamaAttention(nnx.Module):\n",
        "\n",
        "    def __init__(self, layer_idx, rngs=None):\n",
        "        self.q_proj = nnx.Linear(config.dim, config.n_heads * config.head_dim, use_bias=False, rngs=rngs)\n",
        "        self.q_proj.kernel.value = weights[f\"model.layers.{layer_idx}.self_attn.q_proj.weight\"].T\n",
        "        self.k_proj = nnx.Linear(config.dim, config.n_kv_heads * config.head_dim, use_bias=False, rngs=rngs)\n",
        "        self.k_proj.kernel.value = weights[f\"model.layers.{layer_idx}.self_attn.k_proj.weight\"].T\n",
        "        self.v_proj = nnx.Linear(config.dim, config.n_kv_heads * config.head_dim, use_bias=False, rngs=rngs)\n",
        "        self.v_proj.kernel.value = weights[f\"model.layers.{layer_idx}.self_attn.v_proj.weight\"].T\n",
        "        self.o_proj = nnx.Linear(config.n_heads * config.head_dim, config.dim, use_bias=False, rngs=rngs)\n",
        "        self.o_proj.kernel.value = weights[f\"model.layers.{layer_idx}.self_attn.o_proj.weight\"].T\n",
        "        self.rotary_emb = LlamaRotaryEmbedding(config.head_dim, base=config.rope_theta, rngs=rngs)\n",
        "\n",
        "    def apply_rotary_pos_emb(self, q, k, cos, sin, unsqueeze_dim=1):\n",
        "        cos = jnp.expand_dims(cos, axis=unsqueeze_dim)\n",
        "        sin = jnp.expand_dims(sin, axis=unsqueeze_dim)\n",
        "        q_embed = (q * cos) + (self.rotate_half(q) * sin)\n",
        "        k_embed = (k * cos) + (self.rotate_half(k) * sin)\n",
        "        return q_embed, k_embed\n",
        "\n",
        "    def rotate_half(self, x):\n",
        "        x1 = x[..., : x.shape[-1] // 2]\n",
        "        x2 = x[..., x.shape[-1] // 2 :]\n",
        "        return jnp.concatenate([-x2, x1], axis=-1)\n",
        "\n",
        "    def repeat_kv(self, hidden_states, n_repeat):\n",
        "        batch, n_kv_heads, seq_len, head_dim = hidden_states.shape\n",
        "        if n_repeat == 1:\n",
        "            return hidden_states\n",
        "        hidden_states = hidden_states[:, :, None, :, :].repeat(n_repeat, axis=2)\n",
        "        return hidden_states.reshape(batch, n_kv_heads * n_repeat, seq_len, head_dim)\n",
        "\n",
        "    def __call__(self, x, position_ids, kv_cache: KVCache | None=None):\n",
        "        batch_size, seq_len, _ = x.shape\n",
        "        query = self.q_proj(x).reshape(batch_size, seq_len, config.n_heads, config.head_dim).transpose((0, 2, 1, 3))\n",
        "        key = self.k_proj(x).reshape(batch_size, seq_len, config.n_kv_heads, config.head_dim).transpose((0, 2, 1, 3))\n",
        "        value = self.v_proj(x).reshape(batch_size, seq_len, config.n_kv_heads, config.head_dim).transpose((0, 2, 1, 3))\n",
        "        # Assuming batch_size=1\n",
        "        cos, sin = self.rotary_emb(position_ids[0])\n",
        "        query, key = self.apply_rotary_pos_emb(query, key, cos, sin)\n",
        "\n",
        "        if kv_cache:\n",
        "            key = jnp.concatenate([kv_cache['key'], key], axis=2)\n",
        "            value = jnp.concatenate([kv_cache['value'], value], axis=2)\n",
        "\n",
        "        updated_kv_cache: KVCache = {'key': key, 'value': value}\n",
        "\n",
        "        key = self.repeat_kv(key, config.n_heads // config.n_kv_heads)\n",
        "        value = self.repeat_kv(value, config.n_heads // config.n_kv_heads)\n",
        "\n",
        "        attn_weights = jnp.matmul(query, jnp.transpose(key, (0, 1, 3, 2)))\n",
        "        attn_weights = (attn_weights.astype(jnp.float32) / jnp.sqrt(config.head_dim)).astype(jnp.bfloat16)\n",
        "        attn_weights = jax.nn.softmax(attn_weights.astype(jnp.float32), axis=-1).astype(jnp.bfloat16)\n",
        "        attn_output = jnp.matmul(attn_weights, value).transpose((0, 2, 1, 3)).reshape(batch_size, seq_len, -1)\n",
        "        output = self.o_proj(attn_output)\n",
        "        return output, updated_kv_cache"
      ]
    },
    {
      "cell_type": "markdown",
      "metadata": {
        "id": "J0hDkS4N3yor"
      },
      "source": [
        "MLP layer follows the attention layer. Similarly we load the weights into the gate, up and down projection layers."
      ]
    },
    {
      "cell_type": "code",
      "execution_count": null,
      "metadata": {
        "id": "y5qP9b82047Y"
      },
      "outputs": [],
      "source": [
        "class LlamaMLP(nnx.Module):\n",
        "\n",
        "    def __init__(self, layer_idx, rngs=None):\n",
        "        self.gate_proj = nnx.Linear(config.dim, config.intermediate_size, use_bias=False, rngs=rngs)\n",
        "        self.gate_proj.kernel.value = weights[f\"model.layers.{layer_idx}.mlp.gate_proj.weight\"].T\n",
        "        self.up_proj = nnx.Linear(config.dim, config.intermediate_size, use_bias=False, rngs=rngs)\n",
        "        self.up_proj.kernel.value = weights[f\"model.layers.{layer_idx}.mlp.up_proj.weight\"].T\n",
        "        self.down_proj = nnx.Linear(config.intermediate_size, config.dim, use_bias=False, rngs=rngs)\n",
        "        self.down_proj.kernel.value = weights[f\"model.layers.{layer_idx}.mlp.down_proj.weight\"].T\n",
        "\n",
        "    def __call__(self, x):\n",
        "        return self.down_proj(jax.nn.silu(self.gate_proj(x)) * self.up_proj(x))"
      ]
    },
    {
      "cell_type": "markdown",
      "metadata": {
        "id": "keogeCxz30Tw"
      },
      "source": [
        "We assemble the decoder block."
      ]
    },
    {
      "cell_type": "code",
      "execution_count": null,
      "metadata": {
        "id": "dW--6pPv1EQI"
      },
      "outputs": [],
      "source": [
        "class LlamaTransformerBlock(nnx.Module):\n",
        "\n",
        "    def __init__(self, layer_idx, rngs=None):\n",
        "        self.input_layernorm = LlamaRMSNorm(name=\"input_layernorm\", layer_idx=layer_idx, rngs=rngs)\n",
        "        self.attention = LlamaAttention(layer_idx=layer_idx, rngs=rngs)\n",
        "        self.post_attention_layernorm = LlamaRMSNorm(name=\"post_attention_layernorm\", layer_idx=layer_idx, rngs=rngs)\n",
        "        self.mlp = LlamaMLP(layer_idx=layer_idx, rngs=rngs)\n",
        "\n",
        "    def __call__(self, x, position_ids, kv_cache: KVCache | None = None):\n",
        "        residual = x\n",
        "        x = self.input_layernorm(x)\n",
        "        x, kv_cache = self.attention(x, position_ids, kv_cache)\n",
        "        x = residual + x\n",
        "\n",
        "        residual = x\n",
        "        x = self.post_attention_layernorm(x)\n",
        "        x = self.mlp(x)\n",
        "        x = residual + x\n",
        "        return x, kv_cache"
      ]
    },
    {
      "cell_type": "markdown",
      "metadata": {
        "id": "5mvjJWU54Biz"
      },
      "source": [
        "Finally we have the enire model."
      ]
    },
    {
      "cell_type": "code",
      "execution_count": null,
      "metadata": {
        "id": "W85ioRay1HYz"
      },
      "outputs": [],
      "source": [
        "class LlamaForCausalLM(nnx.Module):\n",
        "\n",
        "    def __init__(self, rngs=None):\n",
        "        self.token_embed = nnx.Embed(num_embeddings=config.vocab_size, features=config.dim, dtype=jnp.bfloat16, rngs=rngs)\n",
        "        self.token_embed.embedding.value = weights[\"model.embed_tokens.weight\"]\n",
        "\n",
        "        self.layers = [LlamaTransformerBlock(layer_idx=idx, rngs=rngs) for idx in range(config.n_layers)]\n",
        "        self.lm_head = nnx.Linear(config.dim, config.vocab_size, use_bias=False, rngs=rngs)\n",
        "        self.lm_head.kernel.value = weights[\"model.embed_tokens.weight\"].T\n",
        "        self.norm = LlamaRMSNorm(name=None, layer_idx=None, rngs=rngs)\n",
        "\n",
        "    def __call__(self, input_ids, position_ids, kv_cache: list[KVCache] | None = None):\n",
        "        assert input_ids.shape[0] == 1, \"Only batch size 1 is supported\"\n",
        "        x = self.token_embed(input_ids)\n",
        "        \n",
        "        new_kv_cache = []\n",
        "        for i, layer in enumerate(self.layers):\n",
        "            x, new_cache = layer(x, position_ids, kv_cache[i] if kv_cache else None)\n",
        "            new_kv_cache.append(new_cache)\n",
        "\n",
        "        x = self.norm(x)\n",
        "        logits = self.lm_head(x)\n",
        "        return logits, new_kv_cache\n",
        "\n",
        "    @nnx.jit\n",
        "    def generate_step(self, params, static_def, input_ids, position_ids, kv_cache: list[KVCache] | None):\n",
        "        model = nnx.merge(params, static_def)\n",
        "        logits, new_kv_cache = model(input_ids, position_ids, kv_cache)\n",
        "        next_token = jnp.argmax(logits[:, -1, :], axis=-1)\n",
        "        return next_token, new_kv_cache\n",
        "\n",
        "    def generate_text(self, tokenizer, input_text, max_length=50):\n",
        "        params, static_def = nnx.split(self)\n",
        "        input_ids = tokenizer(input_text, return_tensors=\"jax\")[\"input_ids\"]\n",
        "        position_ids = jnp.asarray([jnp.arange(input_ids.shape[1])])\n",
        "        \n",
        "        logits, kv_cache = self(input_ids, position_ids)\n",
        "        next_token = jnp.argmax(logits[:, -1, :], axis=-1)\n",
        "        \n",
        "        print(tokenizer.decode(next_token), end=\"\", flush=True)\n",
        "        input_ids = jnp.concatenate([input_ids, next_token[:, None]], axis=1)\n",
        "\n",
        "        for _ in range(max_length - 1):\n",
        "            position_ids = jnp.asarray([[input_ids.shape[1] - 1]])\n",
        "            next_token, kv_cache = self.generate_step(params, static_def, next_token[:, None], position_ids, kv_cache)\n",
        "            \n",
        "            print(tokenizer.decode(next_token), end=\"\", flush=True)\n",
        "            \n",
        "            input_ids = jnp.concatenate([input_ids, next_token[:, None]], axis=1)"
      ]
    },
    {
      "cell_type": "markdown",
      "metadata": {
        "id": "gBfFRlNx1b8Z"
      },
      "source": [
        "## Run the Flax model"
      ]
    },
    {
      "cell_type": "markdown",
      "metadata": {
        "id": "ZWcxgcsI4ESh"
      },
      "source": [
        "Let's take it for a spin! We are still going to use the tokenizer from Hugging Face (since our primary focus is re-building the model instead of the tokenizer)."
      ]
    },
    {
      "cell_type": "code",
      "execution_count": null,
      "metadata": {
        "colab": {
          "base_uri": "https://localhost:8080/",
          "height": 113,
          "referenced_widgets": [
            "8e0c6d5f8eea469eac5fbadad0865c98",
            "6b06bf11085a4feaaa3a455343933cdd",
            "860253854be94fb7b3d44e0cf9f39a6e",
            "9794fed58a984365b938a04bfee4450b",
            "381c2617205b47bfab190cd1e7f90cbe",
            "0d9b44e8d9874863bbc3caed227c5e38",
            "10cac9a4c7724953a347f5b2047586be",
            "2a2a8f02b97e49c18864f342217a0d34",
            "79b32d98ba0b4f36b3088ff063a12267",
            "c12b73a5d5394dbdbc2ebcbcf6661b14",
            "e79a2fcb851746ed887d6ad672ef6e4a",
            "9dbf9f3a52dd49da99944eb448b57949",
            "081ca1daecfa4657a9285323d472260f",
            "4aa74e8f1e804abfac9d888c8e6c6f1f",
            "64c83605e6de4e2685fb8a9dad7734a6",
            "3bdf24262e104b12a9fd7c8107d022e5",
            "958de99a97eb4ba0b47fbf5eff8377ce",
            "c404f31411594772ad9425b6be3c420b",
            "99969f689efb445b9f7ce4717ff0b886",
            "b9e81a9d1d9f425b8d8b66210baac6c7",
            "395446622da14458896b9d8c16509e92",
            "e17235dc3b5e442a9215312051b47510",
            "1482d5274aca464598592ae9098f1d8b",
            "a0df7fdb19664480b663466614302866",
            "3dd88b1c4d3c4033b090e3dc038401af",
            "2df0878a344e42d4bedea6a7d23fb0e8",
            "955ce4b7aab04dada58bda42d9bd4199",
            "b215deea82994a308c6d7dde37127a69",
            "aaa651963cff471b9b482515125a311d",
            "a211fe8756e04c128ce9a873b3bf4788",
            "0ec36bae78f845609b74b5ba473bb285",
            "c65c6ee3b67f454bb6ce34887e1d2625",
            "90dc6ba06560430dbd606a7a63754107"
          ]
        },
        "id": "0qLDX1aDXNdP",
        "outputId": "35f5765c-6567-40f4-8e9c-b8b21c0049f4"
      },
      "outputs": [
        {
          "data": {
            "application/vnd.jupyter.widget-view+json": {
              "model_id": "8e0c6d5f8eea469eac5fbadad0865c98",
              "version_major": 2,
              "version_minor": 0
            },
            "text/plain": [
              "tokenizer_config.json:   0%|          | 0.00/54.5k [00:00<?, ?B/s]"
            ]
          },
          "metadata": {},
          "output_type": "display_data"
        },
        {
          "data": {
            "application/vnd.jupyter.widget-view+json": {
              "model_id": "9dbf9f3a52dd49da99944eb448b57949",
              "version_major": 2,
              "version_minor": 0
            },
            "text/plain": [
              "tokenizer.json:   0%|          | 0.00/9.09M [00:00<?, ?B/s]"
            ]
          },
          "metadata": {},
          "output_type": "display_data"
        },
        {
          "data": {
            "application/vnd.jupyter.widget-view+json": {
              "model_id": "1482d5274aca464598592ae9098f1d8b",
              "version_major": 2,
              "version_minor": 0
            },
            "text/plain": [
              "special_tokens_map.json:   0%|          | 0.00/296 [00:00<?, ?B/s]"
            ]
          },
          "metadata": {},
          "output_type": "display_data"
        }
      ],
      "source": [
        "def main():\n",
        "    model = LlamaForCausalLM(rngs=nnx.Rngs(0))\n",
        "    tokenizer = AutoTokenizer.from_pretrained(model_id)\n",
        "\n",
        "    input_text = \"\"\"<|start_header_id|>system<|end_header_id|>\n",
        "\n",
        "You are a helpful assistant<|eot_id|><|start_header_id|>user<|end_header_id|>\n",
        "\n",
        "How do you make a pancake?<|eot_id|><|start_header_id|>assistant<|end_header_id|>\n",
        "\n",
        "\"\"\"\n",
        "    print(input_text, end=\"\")\n",
        "    model.generate_text(tokenizer, input_text)\n",
        "    print()\n",
        "\n",
        "if __name__ == \"__main__\":\n",
        "    main()"
      ]
    },
    {
      "cell_type": "markdown",
      "metadata": {
        "id": "QLAM95pf5RMu"
      },
      "source": [
        "There you have it. We have successfully converted the Hugging Face model weights from the safetensors file, loaded them up in our JAX model, and run the model with KV cache."
      ]
    },
    {
      "cell_type": "code",
      "execution_count": null,
      "metadata": {
        "id": "S6ZA1m91qtaY"
      },
      "outputs": [],
      "source": []
    }
  ],
  "metadata": {
    "accelerator": "GPU",
    "colab": {
      "gpuType": "T4",
      "provenance": []
    },
    "jupytext": {
      "formats": "ipynb,md:myst"
    },
    "kernelspec": {
      "display_name": "base",
      "language": "python",
      "name": "python3"
    },
    "language_info": {
      "codemirror_mode": {
        "name": "ipython",
        "version": 3
      },
      "file_extension": ".py",
      "mimetype": "text/x-python",
      "name": "python",
      "nbconvert_exporter": "python",
      "pygments_lexer": "ipython3",
      "version": "3.12.7"
    },
    "widgets": {
      "application/vnd.jupyter.widget-state+json": {
        "00917f75ce114366b3be1d7484e0ea0c": {
          "model_module": "@jupyter-widgets/controls",
          "model_module_version": "1.5.0",
          "model_name": "HTMLModel",
          "state": {
            "_dom_classes": [],
            "_model_module": "@jupyter-widgets/controls",
            "_model_module_version": "1.5.0",
            "_model_name": "HTMLModel",
            "_view_count": null,
            "_view_module": "@jupyter-widgets/controls",
            "_view_module_version": "1.5.0",
            "_view_name": "HTMLView",
            "description": "",
            "description_tooltip": null,
            "layout": "IPY_MODEL_8abd805fdb3644b09e0db77e1b80cbf4",
            "placeholder": "​",
            "style": "IPY_MODEL_20f6e3bbbcf24b75b14a32079c2400eb",
            "value": "Fetching 1 files: 100%"
          }
        },
        "081ca1daecfa4657a9285323d472260f": {
          "model_module": "@jupyter-widgets/controls",
          "model_module_version": "1.5.0",
          "model_name": "HTMLModel",
          "state": {
            "_dom_classes": [],
            "_model_module": "@jupyter-widgets/controls",
            "_model_module_version": "1.5.0",
            "_model_name": "HTMLModel",
            "_view_count": null,
            "_view_module": "@jupyter-widgets/controls",
            "_view_module_version": "1.5.0",
            "_view_name": "HTMLView",
            "description": "",
            "description_tooltip": null,
            "layout": "IPY_MODEL_958de99a97eb4ba0b47fbf5eff8377ce",
            "placeholder": "​",
            "style": "IPY_MODEL_c404f31411594772ad9425b6be3c420b",
            "value": "tokenizer.json: 100%"
          }
        },
        "0d9b44e8d9874863bbc3caed227c5e38": {
          "model_module": "@jupyter-widgets/base",
          "model_module_version": "1.2.0",
          "model_name": "LayoutModel",
          "state": {
            "_model_module": "@jupyter-widgets/base",
            "_model_module_version": "1.2.0",
            "_model_name": "LayoutModel",
            "_view_count": null,
            "_view_module": "@jupyter-widgets/base",
            "_view_module_version": "1.2.0",
            "_view_name": "LayoutView",
            "align_content": null,
            "align_items": null,
            "align_self": null,
            "border": null,
            "bottom": null,
            "display": null,
            "flex": null,
            "flex_flow": null,
            "grid_area": null,
            "grid_auto_columns": null,
            "grid_auto_flow": null,
            "grid_auto_rows": null,
            "grid_column": null,
            "grid_gap": null,
            "grid_row": null,
            "grid_template_areas": null,
            "grid_template_columns": null,
            "grid_template_rows": null,
            "height": null,
            "justify_content": null,
            "justify_items": null,
            "left": null,
            "margin": null,
            "max_height": null,
            "max_width": null,
            "min_height": null,
            "min_width": null,
            "object_fit": null,
            "object_position": null,
            "order": null,
            "overflow": null,
            "overflow_x": null,
            "overflow_y": null,
            "padding": null,
            "right": null,
            "top": null,
            "visibility": null,
            "width": null
          }
        },
        "0ec36bae78f845609b74b5ba473bb285": {
          "model_module": "@jupyter-widgets/controls",
          "model_module_version": "1.5.0",
          "model_name": "ProgressStyleModel",
          "state": {
            "_model_module": "@jupyter-widgets/controls",
            "_model_module_version": "1.5.0",
            "_model_name": "ProgressStyleModel",
            "_view_count": null,
            "_view_module": "@jupyter-widgets/base",
            "_view_module_version": "1.2.0",
            "_view_name": "StyleView",
            "bar_color": null,
            "description_width": ""
          }
        },
        "10cac9a4c7724953a347f5b2047586be": {
          "model_module": "@jupyter-widgets/controls",
          "model_module_version": "1.5.0",
          "model_name": "DescriptionStyleModel",
          "state": {
            "_model_module": "@jupyter-widgets/controls",
            "_model_module_version": "1.5.0",
            "_model_name": "DescriptionStyleModel",
            "_view_count": null,
            "_view_module": "@jupyter-widgets/base",
            "_view_module_version": "1.2.0",
            "_view_name": "StyleView",
            "description_width": ""
          }
        },
        "1479fc301f20413da9a3bba44a33ebd6": {
          "model_module": "@jupyter-widgets/base",
          "model_module_version": "1.2.0",
          "model_name": "LayoutModel",
          "state": {
            "_model_module": "@jupyter-widgets/base",
            "_model_module_version": "1.2.0",
            "_model_name": "LayoutModel",
            "_view_count": null,
            "_view_module": "@jupyter-widgets/base",
            "_view_module_version": "1.2.0",
            "_view_name": "LayoutView",
            "align_content": null,
            "align_items": null,
            "align_self": null,
            "border": null,
            "bottom": null,
            "display": null,
            "flex": null,
            "flex_flow": null,
            "grid_area": null,
            "grid_auto_columns": null,
            "grid_auto_flow": null,
            "grid_auto_rows": null,
            "grid_column": null,
            "grid_gap": null,
            "grid_row": null,
            "grid_template_areas": null,
            "grid_template_columns": null,
            "grid_template_rows": null,
            "height": null,
            "justify_content": null,
            "justify_items": null,
            "left": null,
            "margin": null,
            "max_height": null,
            "max_width": null,
            "min_height": null,
            "min_width": null,
            "object_fit": null,
            "object_position": null,
            "order": null,
            "overflow": null,
            "overflow_x": null,
            "overflow_y": null,
            "padding": null,
            "right": null,
            "top": null,
            "visibility": null,
            "width": null
          }
        },
        "1482d5274aca464598592ae9098f1d8b": {
          "model_module": "@jupyter-widgets/controls",
          "model_module_version": "1.5.0",
          "model_name": "HBoxModel",
          "state": {
            "_dom_classes": [],
            "_model_module": "@jupyter-widgets/controls",
            "_model_module_version": "1.5.0",
            "_model_name": "HBoxModel",
            "_view_count": null,
            "_view_module": "@jupyter-widgets/controls",
            "_view_module_version": "1.5.0",
            "_view_name": "HBoxView",
            "box_style": "",
            "children": [
              "IPY_MODEL_a0df7fdb19664480b663466614302866",
              "IPY_MODEL_3dd88b1c4d3c4033b090e3dc038401af",
              "IPY_MODEL_2df0878a344e42d4bedea6a7d23fb0e8"
            ],
            "layout": "IPY_MODEL_955ce4b7aab04dada58bda42d9bd4199"
          }
        },
        "20f6e3bbbcf24b75b14a32079c2400eb": {
          "model_module": "@jupyter-widgets/controls",
          "model_module_version": "1.5.0",
          "model_name": "DescriptionStyleModel",
          "state": {
            "_model_module": "@jupyter-widgets/controls",
            "_model_module_version": "1.5.0",
            "_model_name": "DescriptionStyleModel",
            "_view_count": null,
            "_view_module": "@jupyter-widgets/base",
            "_view_module_version": "1.2.0",
            "_view_name": "StyleView",
            "description_width": ""
          }
        },
        "2a2a8f02b97e49c18864f342217a0d34": {
          "model_module": "@jupyter-widgets/base",
          "model_module_version": "1.2.0",
          "model_name": "LayoutModel",
          "state": {
            "_model_module": "@jupyter-widgets/base",
            "_model_module_version": "1.2.0",
            "_model_name": "LayoutModel",
            "_view_count": null,
            "_view_module": "@jupyter-widgets/base",
            "_view_module_version": "1.2.0",
            "_view_name": "LayoutView",
            "align_content": null,
            "align_items": null,
            "align_self": null,
            "border": null,
            "bottom": null,
            "display": null,
            "flex": null,
            "flex_flow": null,
            "grid_area": null,
            "grid_auto_columns": null,
            "grid_auto_flow": null,
            "grid_auto_rows": null,
            "grid_column": null,
            "grid_gap": null,
            "grid_row": null,
            "grid_template_areas": null,
            "grid_template_columns": null,
            "grid_template_rows": null,
            "height": null,
            "justify_content": null,
            "justify_items": null,
            "left": null,
            "margin": null,
            "max_height": null,
            "max_width": null,
            "min_height": null,
            "min_width": null,
            "object_fit": null,
            "object_position": null,
            "order": null,
            "overflow": null,
            "overflow_x": null,
            "overflow_y": null,
            "padding": null,
            "right": null,
            "top": null,
            "visibility": null,
            "width": null
          }
        },
        "2df0878a344e42d4bedea6a7d23fb0e8": {
          "model_module": "@jupyter-widgets/controls",
          "model_module_version": "1.5.0",
          "model_name": "HTMLModel",
          "state": {
            "_dom_classes": [],
            "_model_module": "@jupyter-widgets/controls",
            "_model_module_version": "1.5.0",
            "_model_name": "HTMLModel",
            "_view_count": null,
            "_view_module": "@jupyter-widgets/controls",
            "_view_module_version": "1.5.0",
            "_view_name": "HTMLView",
            "description": "",
            "description_tooltip": null,
            "layout": "IPY_MODEL_c65c6ee3b67f454bb6ce34887e1d2625",
            "placeholder": "​",
            "style": "IPY_MODEL_90dc6ba06560430dbd606a7a63754107",
            "value": " 296/296 [00:00&lt;00:00, 10.3kB/s]"
          }
        },
        "381c2617205b47bfab190cd1e7f90cbe": {
          "model_module": "@jupyter-widgets/base",
          "model_module_version": "1.2.0",
          "model_name": "LayoutModel",
          "state": {
            "_model_module": "@jupyter-widgets/base",
            "_model_module_version": "1.2.0",
            "_model_name": "LayoutModel",
            "_view_count": null,
            "_view_module": "@jupyter-widgets/base",
            "_view_module_version": "1.2.0",
            "_view_name": "LayoutView",
            "align_content": null,
            "align_items": null,
            "align_self": null,
            "border": null,
            "bottom": null,
            "display": null,
            "flex": null,
            "flex_flow": null,
            "grid_area": null,
            "grid_auto_columns": null,
            "grid_auto_flow": null,
            "grid_auto_rows": null,
            "grid_column": null,
            "grid_gap": null,
            "grid_row": null,
            "grid_template_areas": null,
            "grid_template_columns": null,
            "grid_template_rows": null,
            "height": null,
            "justify_content": null,
            "justify_items": null,
            "left": null,
            "margin": null,
            "max_height": null,
            "max_width": null,
            "min_height": null,
            "min_width": null,
            "object_fit": null,
            "object_position": null,
            "order": null,
            "overflow": null,
            "overflow_x": null,
            "overflow_y": null,
            "padding": null,
            "right": null,
            "top": null,
            "visibility": null,
            "width": null
          }
        },
        "395446622da14458896b9d8c16509e92": {
          "model_module": "@jupyter-widgets/base",
          "model_module_version": "1.2.0",
          "model_name": "LayoutModel",
          "state": {
            "_model_module": "@jupyter-widgets/base",
            "_model_module_version": "1.2.0",
            "_model_name": "LayoutModel",
            "_view_count": null,
            "_view_module": "@jupyter-widgets/base",
            "_view_module_version": "1.2.0",
            "_view_name": "LayoutView",
            "align_content": null,
            "align_items": null,
            "align_self": null,
            "border": null,
            "bottom": null,
            "display": null,
            "flex": null,
            "flex_flow": null,
            "grid_area": null,
            "grid_auto_columns": null,
            "grid_auto_flow": null,
            "grid_auto_rows": null,
            "grid_column": null,
            "grid_gap": null,
            "grid_row": null,
            "grid_template_areas": null,
            "grid_template_columns": null,
            "grid_template_rows": null,
            "height": null,
            "justify_content": null,
            "justify_items": null,
            "left": null,
            "margin": null,
            "max_height": null,
            "max_width": null,
            "min_height": null,
            "min_width": null,
            "object_fit": null,
            "object_position": null,
            "order": null,
            "overflow": null,
            "overflow_x": null,
            "overflow_y": null,
            "padding": null,
            "right": null,
            "top": null,
            "visibility": null,
            "width": null
          }
        },
        "3bdf24262e104b12a9fd7c8107d022e5": {
          "model_module": "@jupyter-widgets/base",
          "model_module_version": "1.2.0",
          "model_name": "LayoutModel",
          "state": {
            "_model_module": "@jupyter-widgets/base",
            "_model_module_version": "1.2.0",
            "_model_name": "LayoutModel",
            "_view_count": null,
            "_view_module": "@jupyter-widgets/base",
            "_view_module_version": "1.2.0",
            "_view_name": "LayoutView",
            "align_content": null,
            "align_items": null,
            "align_self": null,
            "border": null,
            "bottom": null,
            "display": null,
            "flex": null,
            "flex_flow": null,
            "grid_area": null,
            "grid_auto_columns": null,
            "grid_auto_flow": null,
            "grid_auto_rows": null,
            "grid_column": null,
            "grid_gap": null,
            "grid_row": null,
            "grid_template_areas": null,
            "grid_template_columns": null,
            "grid_template_rows": null,
            "height": null,
            "justify_content": null,
            "justify_items": null,
            "left": null,
            "margin": null,
            "max_height": null,
            "max_width": null,
            "min_height": null,
            "min_width": null,
            "object_fit": null,
            "object_position": null,
            "order": null,
            "overflow": null,
            "overflow_x": null,
            "overflow_y": null,
            "padding": null,
            "right": null,
            "top": null,
            "visibility": null,
            "width": null
          }
        },
        "3dd88b1c4d3c4033b090e3dc038401af": {
          "model_module": "@jupyter-widgets/controls",
          "model_module_version": "1.5.0",
          "model_name": "FloatProgressModel",
          "state": {
            "_dom_classes": [],
            "_model_module": "@jupyter-widgets/controls",
            "_model_module_version": "1.5.0",
            "_model_name": "FloatProgressModel",
            "_view_count": null,
            "_view_module": "@jupyter-widgets/controls",
            "_view_module_version": "1.5.0",
            "_view_name": "ProgressView",
            "bar_style": "success",
            "description": "",
            "description_tooltip": null,
            "layout": "IPY_MODEL_a211fe8756e04c128ce9a873b3bf4788",
            "max": 296,
            "min": 0,
            "orientation": "horizontal",
            "style": "IPY_MODEL_0ec36bae78f845609b74b5ba473bb285",
            "value": 296
          }
        },
        "45a36de4527846dd87db3043c48c8de2": {
          "model_module": "@jupyter-widgets/base",
          "model_module_version": "1.2.0",
          "model_name": "LayoutModel",
          "state": {
            "_model_module": "@jupyter-widgets/base",
            "_model_module_version": "1.2.0",
            "_model_name": "LayoutModel",
            "_view_count": null,
            "_view_module": "@jupyter-widgets/base",
            "_view_module_version": "1.2.0",
            "_view_name": "LayoutView",
            "align_content": null,
            "align_items": null,
            "align_self": null,
            "border": null,
            "bottom": null,
            "display": null,
            "flex": null,
            "flex_flow": null,
            "grid_area": null,
            "grid_auto_columns": null,
            "grid_auto_flow": null,
            "grid_auto_rows": null,
            "grid_column": null,
            "grid_gap": null,
            "grid_row": null,
            "grid_template_areas": null,
            "grid_template_columns": null,
            "grid_template_rows": null,
            "height": null,
            "justify_content": null,
            "justify_items": null,
            "left": null,
            "margin": null,
            "max_height": null,
            "max_width": null,
            "min_height": null,
            "min_width": null,
            "object_fit": null,
            "object_position": null,
            "order": null,
            "overflow": null,
            "overflow_x": null,
            "overflow_y": null,
            "padding": null,
            "right": null,
            "top": null,
            "visibility": null,
            "width": null
          }
        },
        "4aa74e8f1e804abfac9d888c8e6c6f1f": {
          "model_module": "@jupyter-widgets/controls",
          "model_module_version": "1.5.0",
          "model_name": "FloatProgressModel",
          "state": {
            "_dom_classes": [],
            "_model_module": "@jupyter-widgets/controls",
            "_model_module_version": "1.5.0",
            "_model_name": "FloatProgressModel",
            "_view_count": null,
            "_view_module": "@jupyter-widgets/controls",
            "_view_module_version": "1.5.0",
            "_view_name": "ProgressView",
            "bar_style": "success",
            "description": "",
            "description_tooltip": null,
            "layout": "IPY_MODEL_99969f689efb445b9f7ce4717ff0b886",
            "max": 9085657,
            "min": 0,
            "orientation": "horizontal",
            "style": "IPY_MODEL_b9e81a9d1d9f425b8d8b66210baac6c7",
            "value": 9085657
          }
        },
        "64c83605e6de4e2685fb8a9dad7734a6": {
          "model_module": "@jupyter-widgets/controls",
          "model_module_version": "1.5.0",
          "model_name": "HTMLModel",
          "state": {
            "_dom_classes": [],
            "_model_module": "@jupyter-widgets/controls",
            "_model_module_version": "1.5.0",
            "_model_name": "HTMLModel",
            "_view_count": null,
            "_view_module": "@jupyter-widgets/controls",
            "_view_module_version": "1.5.0",
            "_view_name": "HTMLView",
            "description": "",
            "description_tooltip": null,
            "layout": "IPY_MODEL_395446622da14458896b9d8c16509e92",
            "placeholder": "​",
            "style": "IPY_MODEL_e17235dc3b5e442a9215312051b47510",
            "value": " 9.09M/9.09M [00:00&lt;00:00, 33.8MB/s]"
          }
        },
        "6b06bf11085a4feaaa3a455343933cdd": {
          "model_module": "@jupyter-widgets/controls",
          "model_module_version": "1.5.0",
          "model_name": "HTMLModel",
          "state": {
            "_dom_classes": [],
            "_model_module": "@jupyter-widgets/controls",
            "_model_module_version": "1.5.0",
            "_model_name": "HTMLModel",
            "_view_count": null,
            "_view_module": "@jupyter-widgets/controls",
            "_view_module_version": "1.5.0",
            "_view_name": "HTMLView",
            "description": "",
            "description_tooltip": null,
            "layout": "IPY_MODEL_0d9b44e8d9874863bbc3caed227c5e38",
            "placeholder": "​",
            "style": "IPY_MODEL_10cac9a4c7724953a347f5b2047586be",
            "value": "tokenizer_config.json: 100%"
          }
        },
        "79b32d98ba0b4f36b3088ff063a12267": {
          "model_module": "@jupyter-widgets/controls",
          "model_module_version": "1.5.0",
          "model_name": "ProgressStyleModel",
          "state": {
            "_model_module": "@jupyter-widgets/controls",
            "_model_module_version": "1.5.0",
            "_model_name": "ProgressStyleModel",
            "_view_count": null,
            "_view_module": "@jupyter-widgets/base",
            "_view_module_version": "1.2.0",
            "_view_name": "StyleView",
            "bar_color": null,
            "description_width": ""
          }
        },
        "8121f70945b54d6f82e30ea19b0b32fd": {
          "model_module": "@jupyter-widgets/controls",
          "model_module_version": "1.5.0",
          "model_name": "HTMLModel",
          "state": {
            "_dom_classes": [],
            "_model_module": "@jupyter-widgets/controls",
            "_model_module_version": "1.5.0",
            "_model_name": "HTMLModel",
            "_view_count": null,
            "_view_module": "@jupyter-widgets/controls",
            "_view_module_version": "1.5.0",
            "_view_name": "HTMLView",
            "description": "",
            "description_tooltip": null,
            "layout": "IPY_MODEL_1479fc301f20413da9a3bba44a33ebd6",
            "placeholder": "​",
            "style": "IPY_MODEL_8cf633b9f3194043bdf06b3238e082a3",
            "value": " 1/1 [00:00&lt;00:00, 79.57it/s]"
          }
        },
        "860253854be94fb7b3d44e0cf9f39a6e": {
          "model_module": "@jupyter-widgets/controls",
          "model_module_version": "1.5.0",
          "model_name": "FloatProgressModel",
          "state": {
            "_dom_classes": [],
            "_model_module": "@jupyter-widgets/controls",
            "_model_module_version": "1.5.0",
            "_model_name": "FloatProgressModel",
            "_view_count": null,
            "_view_module": "@jupyter-widgets/controls",
            "_view_module_version": "1.5.0",
            "_view_name": "ProgressView",
            "bar_style": "success",
            "description": "",
            "description_tooltip": null,
            "layout": "IPY_MODEL_2a2a8f02b97e49c18864f342217a0d34",
            "max": 54528,
            "min": 0,
            "orientation": "horizontal",
            "style": "IPY_MODEL_79b32d98ba0b4f36b3088ff063a12267",
            "value": 54528
          }
        },
        "8abd805fdb3644b09e0db77e1b80cbf4": {
          "model_module": "@jupyter-widgets/base",
          "model_module_version": "1.2.0",
          "model_name": "LayoutModel",
          "state": {
            "_model_module": "@jupyter-widgets/base",
            "_model_module_version": "1.2.0",
            "_model_name": "LayoutModel",
            "_view_count": null,
            "_view_module": "@jupyter-widgets/base",
            "_view_module_version": "1.2.0",
            "_view_name": "LayoutView",
            "align_content": null,
            "align_items": null,
            "align_self": null,
            "border": null,
            "bottom": null,
            "display": null,
            "flex": null,
            "flex_flow": null,
            "grid_area": null,
            "grid_auto_columns": null,
            "grid_auto_flow": null,
            "grid_auto_rows": null,
            "grid_column": null,
            "grid_gap": null,
            "grid_row": null,
            "grid_template_areas": null,
            "grid_template_columns": null,
            "grid_template_rows": null,
            "height": null,
            "justify_content": null,
            "justify_items": null,
            "left": null,
            "margin": null,
            "max_height": null,
            "max_width": null,
            "min_height": null,
            "min_width": null,
            "object_fit": null,
            "object_position": null,
            "order": null,
            "overflow": null,
            "overflow_x": null,
            "overflow_y": null,
            "padding": null,
            "right": null,
            "top": null,
            "visibility": null,
            "width": null
          }
        },
        "8b45db38cdf04df1b9c547bec11a9edb": {
          "model_module": "@jupyter-widgets/controls",
          "model_module_version": "1.5.0",
          "model_name": "HBoxModel",
          "state": {
            "_dom_classes": [],
            "_model_module": "@jupyter-widgets/controls",
            "_model_module_version": "1.5.0",
            "_model_name": "HBoxModel",
            "_view_count": null,
            "_view_module": "@jupyter-widgets/controls",
            "_view_module_version": "1.5.0",
            "_view_name": "HBoxView",
            "box_style": "",
            "children": [
              "IPY_MODEL_00917f75ce114366b3be1d7484e0ea0c",
              "IPY_MODEL_93d23e50e428487b916cf7ef50c07a57",
              "IPY_MODEL_8121f70945b54d6f82e30ea19b0b32fd"
            ],
            "layout": "IPY_MODEL_45a36de4527846dd87db3043c48c8de2"
          }
        },
        "8cf633b9f3194043bdf06b3238e082a3": {
          "model_module": "@jupyter-widgets/controls",
          "model_module_version": "1.5.0",
          "model_name": "DescriptionStyleModel",
          "state": {
            "_model_module": "@jupyter-widgets/controls",
            "_model_module_version": "1.5.0",
            "_model_name": "DescriptionStyleModel",
            "_view_count": null,
            "_view_module": "@jupyter-widgets/base",
            "_view_module_version": "1.2.0",
            "_view_name": "StyleView",
            "description_width": ""
          }
        },
        "8e0c6d5f8eea469eac5fbadad0865c98": {
          "model_module": "@jupyter-widgets/controls",
          "model_module_version": "1.5.0",
          "model_name": "HBoxModel",
          "state": {
            "_dom_classes": [],
            "_model_module": "@jupyter-widgets/controls",
            "_model_module_version": "1.5.0",
            "_model_name": "HBoxModel",
            "_view_count": null,
            "_view_module": "@jupyter-widgets/controls",
            "_view_module_version": "1.5.0",
            "_view_name": "HBoxView",
            "box_style": "",
            "children": [
              "IPY_MODEL_6b06bf11085a4feaaa3a455343933cdd",
              "IPY_MODEL_860253854be94fb7b3d44e0cf9f39a6e",
              "IPY_MODEL_9794fed58a984365b938a04bfee4450b"
            ],
            "layout": "IPY_MODEL_381c2617205b47bfab190cd1e7f90cbe"
          }
        },
        "90dc6ba06560430dbd606a7a63754107": {
          "model_module": "@jupyter-widgets/controls",
          "model_module_version": "1.5.0",
          "model_name": "DescriptionStyleModel",
          "state": {
            "_model_module": "@jupyter-widgets/controls",
            "_model_module_version": "1.5.0",
            "_model_name": "DescriptionStyleModel",
            "_view_count": null,
            "_view_module": "@jupyter-widgets/base",
            "_view_module_version": "1.2.0",
            "_view_name": "StyleView",
            "description_width": ""
          }
        },
        "93d23e50e428487b916cf7ef50c07a57": {
          "model_module": "@jupyter-widgets/controls",
          "model_module_version": "1.5.0",
          "model_name": "FloatProgressModel",
          "state": {
            "_dom_classes": [],
            "_model_module": "@jupyter-widgets/controls",
            "_model_module_version": "1.5.0",
            "_model_name": "FloatProgressModel",
            "_view_count": null,
            "_view_module": "@jupyter-widgets/controls",
            "_view_module_version": "1.5.0",
            "_view_name": "ProgressView",
            "bar_style": "success",
            "description": "",
            "description_tooltip": null,
            "layout": "IPY_MODEL_ceb9d0d9f8fc4a4fa2c9dc7fcbbb1a7b",
            "max": 1,
            "min": 0,
            "orientation": "horizontal",
            "style": "IPY_MODEL_e030fe36da5b492a80578233c5b0e547",
            "value": 1
          }
        },
        "955ce4b7aab04dada58bda42d9bd4199": {
          "model_module": "@jupyter-widgets/base",
          "model_module_version": "1.2.0",
          "model_name": "LayoutModel",
          "state": {
            "_model_module": "@jupyter-widgets/base",
            "_model_module_version": "1.2.0",
            "_model_name": "LayoutModel",
            "_view_count": null,
            "_view_module": "@jupyter-widgets/base",
            "_view_module_version": "1.2.0",
            "_view_name": "LayoutView",
            "align_content": null,
            "align_items": null,
            "align_self": null,
            "border": null,
            "bottom": null,
            "display": null,
            "flex": null,
            "flex_flow": null,
            "grid_area": null,
            "grid_auto_columns": null,
            "grid_auto_flow": null,
            "grid_auto_rows": null,
            "grid_column": null,
            "grid_gap": null,
            "grid_row": null,
            "grid_template_areas": null,
            "grid_template_columns": null,
            "grid_template_rows": null,
            "height": null,
            "justify_content": null,
            "justify_items": null,
            "left": null,
            "margin": null,
            "max_height": null,
            "max_width": null,
            "min_height": null,
            "min_width": null,
            "object_fit": null,
            "object_position": null,
            "order": null,
            "overflow": null,
            "overflow_x": null,
            "overflow_y": null,
            "padding": null,
            "right": null,
            "top": null,
            "visibility": null,
            "width": null
          }
        },
        "958de99a97eb4ba0b47fbf5eff8377ce": {
          "model_module": "@jupyter-widgets/base",
          "model_module_version": "1.2.0",
          "model_name": "LayoutModel",
          "state": {
            "_model_module": "@jupyter-widgets/base",
            "_model_module_version": "1.2.0",
            "_model_name": "LayoutModel",
            "_view_count": null,
            "_view_module": "@jupyter-widgets/base",
            "_view_module_version": "1.2.0",
            "_view_name": "LayoutView",
            "align_content": null,
            "align_items": null,
            "align_self": null,
            "border": null,
            "bottom": null,
            "display": null,
            "flex": null,
            "flex_flow": null,
            "grid_area": null,
            "grid_auto_columns": null,
            "grid_auto_flow": null,
            "grid_auto_rows": null,
            "grid_column": null,
            "grid_gap": null,
            "grid_row": null,
            "grid_template_areas": null,
            "grid_template_columns": null,
            "grid_template_rows": null,
            "height": null,
            "justify_content": null,
            "justify_items": null,
            "left": null,
            "margin": null,
            "max_height": null,
            "max_width": null,
            "min_height": null,
            "min_width": null,
            "object_fit": null,
            "object_position": null,
            "order": null,
            "overflow": null,
            "overflow_x": null,
            "overflow_y": null,
            "padding": null,
            "right": null,
            "top": null,
            "visibility": null,
            "width": null
          }
        },
        "9794fed58a984365b938a04bfee4450b": {
          "model_module": "@jupyter-widgets/controls",
          "model_module_version": "1.5.0",
          "model_name": "HTMLModel",
          "state": {
            "_dom_classes": [],
            "_model_module": "@jupyter-widgets/controls",
            "_model_module_version": "1.5.0",
            "_model_name": "HTMLModel",
            "_view_count": null,
            "_view_module": "@jupyter-widgets/controls",
            "_view_module_version": "1.5.0",
            "_view_name": "HTMLView",
            "description": "",
            "description_tooltip": null,
            "layout": "IPY_MODEL_c12b73a5d5394dbdbc2ebcbcf6661b14",
            "placeholder": "​",
            "style": "IPY_MODEL_e79a2fcb851746ed887d6ad672ef6e4a",
            "value": " 54.5k/54.5k [00:00&lt;00:00, 1.77MB/s]"
          }
        },
        "99969f689efb445b9f7ce4717ff0b886": {
          "model_module": "@jupyter-widgets/base",
          "model_module_version": "1.2.0",
          "model_name": "LayoutModel",
          "state": {
            "_model_module": "@jupyter-widgets/base",
            "_model_module_version": "1.2.0",
            "_model_name": "LayoutModel",
            "_view_count": null,
            "_view_module": "@jupyter-widgets/base",
            "_view_module_version": "1.2.0",
            "_view_name": "LayoutView",
            "align_content": null,
            "align_items": null,
            "align_self": null,
            "border": null,
            "bottom": null,
            "display": null,
            "flex": null,
            "flex_flow": null,
            "grid_area": null,
            "grid_auto_columns": null,
            "grid_auto_flow": null,
            "grid_auto_rows": null,
            "grid_column": null,
            "grid_gap": null,
            "grid_row": null,
            "grid_template_areas": null,
            "grid_template_columns": null,
            "grid_template_rows": null,
            "height": null,
            "justify_content": null,
            "justify_items": null,
            "left": null,
            "margin": null,
            "max_height": null,
            "max_width": null,
            "min_height": null,
            "min_width": null,
            "object_fit": null,
            "object_position": null,
            "order": null,
            "overflow": null,
            "overflow_x": null,
            "overflow_y": null,
            "padding": null,
            "right": null,
            "top": null,
            "visibility": null,
            "width": null
          }
        },
        "9dbf9f3a52dd49da99944eb448b57949": {
          "model_module": "@jupyter-widgets/controls",
          "model_module_version": "1.5.0",
          "model_name": "HBoxModel",
          "state": {
            "_dom_classes": [],
            "_model_module": "@jupyter-widgets/controls",
            "_model_module_version": "1.5.0",
            "_model_name": "HBoxModel",
            "_view_count": null,
            "_view_module": "@jupyter-widgets/controls",
            "_view_module_version": "1.5.0",
            "_view_name": "HBoxView",
            "box_style": "",
            "children": [
              "IPY_MODEL_081ca1daecfa4657a9285323d472260f",
              "IPY_MODEL_4aa74e8f1e804abfac9d888c8e6c6f1f",
              "IPY_MODEL_64c83605e6de4e2685fb8a9dad7734a6"
            ],
            "layout": "IPY_MODEL_3bdf24262e104b12a9fd7c8107d022e5"
          }
        },
        "a0df7fdb19664480b663466614302866": {
          "model_module": "@jupyter-widgets/controls",
          "model_module_version": "1.5.0",
          "model_name": "HTMLModel",
          "state": {
            "_dom_classes": [],
            "_model_module": "@jupyter-widgets/controls",
            "_model_module_version": "1.5.0",
            "_model_name": "HTMLModel",
            "_view_count": null,
            "_view_module": "@jupyter-widgets/controls",
            "_view_module_version": "1.5.0",
            "_view_name": "HTMLView",
            "description": "",
            "description_tooltip": null,
            "layout": "IPY_MODEL_b215deea82994a308c6d7dde37127a69",
            "placeholder": "​",
            "style": "IPY_MODEL_aaa651963cff471b9b482515125a311d",
            "value": "special_tokens_map.json: 100%"
          }
        },
        "a211fe8756e04c128ce9a873b3bf4788": {
          "model_module": "@jupyter-widgets/base",
          "model_module_version": "1.2.0",
          "model_name": "LayoutModel",
          "state": {
            "_model_module": "@jupyter-widgets/base",
            "_model_module_version": "1.2.0",
            "_model_name": "LayoutModel",
            "_view_count": null,
            "_view_module": "@jupyter-widgets/base",
            "_view_module_version": "1.2.0",
            "_view_name": "LayoutView",
            "align_content": null,
            "align_items": null,
            "align_self": null,
            "border": null,
            "bottom": null,
            "display": null,
            "flex": null,
            "flex_flow": null,
            "grid_area": null,
            "grid_auto_columns": null,
            "grid_auto_flow": null,
            "grid_auto_rows": null,
            "grid_column": null,
            "grid_gap": null,
            "grid_row": null,
            "grid_template_areas": null,
            "grid_template_columns": null,
            "grid_template_rows": null,
            "height": null,
            "justify_content": null,
            "justify_items": null,
            "left": null,
            "margin": null,
            "max_height": null,
            "max_width": null,
            "min_height": null,
            "min_width": null,
            "object_fit": null,
            "object_position": null,
            "order": null,
            "overflow": null,
            "overflow_x": null,
            "overflow_y": null,
            "padding": null,
            "right": null,
            "top": null,
            "visibility": null,
            "width": null
          }
        },
        "aaa651963cff471b9b482515125a311d": {
          "model_module": "@jupyter-widgets/controls",
          "model_module_version": "1.5.0",
          "model_name": "DescriptionStyleModel",
          "state": {
            "_model_module": "@jupyter-widgets/controls",
            "_model_module_version": "1.5.0",
            "_model_name": "DescriptionStyleModel",
            "_view_count": null,
            "_view_module": "@jupyter-widgets/base",
            "_view_module_version": "1.2.0",
            "_view_name": "StyleView",
            "description_width": ""
          }
        },
        "b215deea82994a308c6d7dde37127a69": {
          "model_module": "@jupyter-widgets/base",
          "model_module_version": "1.2.0",
          "model_name": "LayoutModel",
          "state": {
            "_model_module": "@jupyter-widgets/base",
            "_model_module_version": "1.2.0",
            "_model_name": "LayoutModel",
            "_view_count": null,
            "_view_module": "@jupyter-widgets/base",
            "_view_module_version": "1.2.0",
            "_view_name": "LayoutView",
            "align_content": null,
            "align_items": null,
            "align_self": null,
            "border": null,
            "bottom": null,
            "display": null,
            "flex": null,
            "flex_flow": null,
            "grid_area": null,
            "grid_auto_columns": null,
            "grid_auto_flow": null,
            "grid_auto_rows": null,
            "grid_column": null,
            "grid_gap": null,
            "grid_row": null,
            "grid_template_areas": null,
            "grid_template_columns": null,
            "grid_template_rows": null,
            "height": null,
            "justify_content": null,
            "justify_items": null,
            "left": null,
            "margin": null,
            "max_height": null,
            "max_width": null,
            "min_height": null,
            "min_width": null,
            "object_fit": null,
            "object_position": null,
            "order": null,
            "overflow": null,
            "overflow_x": null,
            "overflow_y": null,
            "padding": null,
            "right": null,
            "top": null,
            "visibility": null,
            "width": null
          }
        },
        "b9e81a9d1d9f425b8d8b66210baac6c7": {
          "model_module": "@jupyter-widgets/controls",
          "model_module_version": "1.5.0",
          "model_name": "ProgressStyleModel",
          "state": {
            "_model_module": "@jupyter-widgets/controls",
            "_model_module_version": "1.5.0",
            "_model_name": "ProgressStyleModel",
            "_view_count": null,
            "_view_module": "@jupyter-widgets/base",
            "_view_module_version": "1.2.0",
            "_view_name": "StyleView",
            "bar_color": null,
            "description_width": ""
          }
        },
        "c12b73a5d5394dbdbc2ebcbcf6661b14": {
          "model_module": "@jupyter-widgets/base",
          "model_module_version": "1.2.0",
          "model_name": "LayoutModel",
          "state": {
            "_model_module": "@jupyter-widgets/base",
            "_model_module_version": "1.2.0",
            "_model_name": "LayoutModel",
            "_view_count": null,
            "_view_module": "@jupyter-widgets/base",
            "_view_module_version": "1.2.0",
            "_view_name": "LayoutView",
            "align_content": null,
            "align_items": null,
            "align_self": null,
            "border": null,
            "bottom": null,
            "display": null,
            "flex": null,
            "flex_flow": null,
            "grid_area": null,
            "grid_auto_columns": null,
            "grid_auto_flow": null,
            "grid_auto_rows": null,
            "grid_column": null,
            "grid_gap": null,
            "grid_row": null,
            "grid_template_areas": null,
            "grid_template_columns": null,
            "grid_template_rows": null,
            "height": null,
            "justify_content": null,
            "justify_items": null,
            "left": null,
            "margin": null,
            "max_height": null,
            "max_width": null,
            "min_height": null,
            "min_width": null,
            "object_fit": null,
            "object_position": null,
            "order": null,
            "overflow": null,
            "overflow_x": null,
            "overflow_y": null,
            "padding": null,
            "right": null,
            "top": null,
            "visibility": null,
            "width": null
          }
        },
        "c404f31411594772ad9425b6be3c420b": {
          "model_module": "@jupyter-widgets/controls",
          "model_module_version": "1.5.0",
          "model_name": "DescriptionStyleModel",
          "state": {
            "_model_module": "@jupyter-widgets/controls",
            "_model_module_version": "1.5.0",
            "_model_name": "DescriptionStyleModel",
            "_view_count": null,
            "_view_module": "@jupyter-widgets/base",
            "_view_module_version": "1.2.0",
            "_view_name": "StyleView",
            "description_width": ""
          }
        },
        "c65c6ee3b67f454bb6ce34887e1d2625": {
          "model_module": "@jupyter-widgets/base",
          "model_module_version": "1.2.0",
          "model_name": "LayoutModel",
          "state": {
            "_model_module": "@jupyter-widgets/base",
            "_model_module_version": "1.2.0",
            "_model_name": "LayoutModel",
            "_view_count": null,
            "_view_module": "@jupyter-widgets/base",
            "_view_module_version": "1.2.0",
            "_view_name": "LayoutView",
            "align_content": null,
            "align_items": null,
            "align_self": null,
            "border": null,
            "bottom": null,
            "display": null,
            "flex": null,
            "flex_flow": null,
            "grid_area": null,
            "grid_auto_columns": null,
            "grid_auto_flow": null,
            "grid_auto_rows": null,
            "grid_column": null,
            "grid_gap": null,
            "grid_row": null,
            "grid_template_areas": null,
            "grid_template_columns": null,
            "grid_template_rows": null,
            "height": null,
            "justify_content": null,
            "justify_items": null,
            "left": null,
            "margin": null,
            "max_height": null,
            "max_width": null,
            "min_height": null,
            "min_width": null,
            "object_fit": null,
            "object_position": null,
            "order": null,
            "overflow": null,
            "overflow_x": null,
            "overflow_y": null,
            "padding": null,
            "right": null,
            "top": null,
            "visibility": null,
            "width": null
          }
        },
        "ceb9d0d9f8fc4a4fa2c9dc7fcbbb1a7b": {
          "model_module": "@jupyter-widgets/base",
          "model_module_version": "1.2.0",
          "model_name": "LayoutModel",
          "state": {
            "_model_module": "@jupyter-widgets/base",
            "_model_module_version": "1.2.0",
            "_model_name": "LayoutModel",
            "_view_count": null,
            "_view_module": "@jupyter-widgets/base",
            "_view_module_version": "1.2.0",
            "_view_name": "LayoutView",
            "align_content": null,
            "align_items": null,
            "align_self": null,
            "border": null,
            "bottom": null,
            "display": null,
            "flex": null,
            "flex_flow": null,
            "grid_area": null,
            "grid_auto_columns": null,
            "grid_auto_flow": null,
            "grid_auto_rows": null,
            "grid_column": null,
            "grid_gap": null,
            "grid_row": null,
            "grid_template_areas": null,
            "grid_template_columns": null,
            "grid_template_rows": null,
            "height": null,
            "justify_content": null,
            "justify_items": null,
            "left": null,
            "margin": null,
            "max_height": null,
            "max_width": null,
            "min_height": null,
            "min_width": null,
            "object_fit": null,
            "object_position": null,
            "order": null,
            "overflow": null,
            "overflow_x": null,
            "overflow_y": null,
            "padding": null,
            "right": null,
            "top": null,
            "visibility": null,
            "width": null
          }
        },
        "e030fe36da5b492a80578233c5b0e547": {
          "model_module": "@jupyter-widgets/controls",
          "model_module_version": "1.5.0",
          "model_name": "ProgressStyleModel",
          "state": {
            "_model_module": "@jupyter-widgets/controls",
            "_model_module_version": "1.5.0",
            "_model_name": "ProgressStyleModel",
            "_view_count": null,
            "_view_module": "@jupyter-widgets/base",
            "_view_module_version": "1.2.0",
            "_view_name": "StyleView",
            "bar_color": null,
            "description_width": ""
          }
        },
        "e17235dc3b5e442a9215312051b47510": {
          "model_module": "@jupyter-widgets/controls",
          "model_module_version": "1.5.0",
          "model_name": "DescriptionStyleModel",
          "state": {
            "_model_module": "@jupyter-widgets/controls",
            "_model_module_version": "1.5.0",
            "_model_name": "DescriptionStyleModel",
            "_view_count": null,
            "_view_module": "@jupyter-widgets/base",
            "_view_module_version": "1.2.0",
            "_view_name": "StyleView",
            "description_width": ""
          }
        },
        "e79a2fcb851746ed887d6ad672ef6e4a": {
          "model_module": "@jupyter-widgets/controls",
          "model_module_version": "1.5.0",
          "model_name": "DescriptionStyleModel",
          "state": {
            "_model_module": "@jupyter-widgets/controls",
            "_model_module_version": "1.5.0",
            "_model_name": "DescriptionStyleModel",
            "_view_count": null,
            "_view_module": "@jupyter-widgets/base",
            "_view_module_version": "1.2.0",
            "_view_name": "StyleView",
            "description_width": ""
          }
        },
        "state": {}
      }
    }
  },
  "nbformat": 4,
  "nbformat_minor": 0
}
