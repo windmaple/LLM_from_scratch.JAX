{
  "cells": [
    {
      "cell_type": "markdown",
      "metadata": {
        "id": "wXMWNV2Rw-wE"
      },
      "source": [
        "# Converting the LLama 3.2 1B model from Hugging Face to JAX\n",
        "\n",
        "This tutorial demonstrates to convert Meta's [Llama 3.2 1B model](https://huggingface.co/meta-llama/Llama-3.2-1B) from Hugging Face to a JAX model and run it with KV Cache enabled. This notebook requires a high-RAM instance to run on GPU."
      ]
    },
    {
      "cell_type": "markdown",
      "metadata": {
        "id": "Iuq-_y1qyXLF"
      },
      "source": [
        "## Setup\n",
        "\n",
        "Let's install the `jax-ai-stack`, we'll use the `jax` and `flax` libraries from the stack in this tutorial. We will also need `huggingface_hub` for downloading model weights and `transformers` for tokenization."
      ]
    },
    {
      "cell_type": "code",
      "execution_count": 1,
      "metadata": {
        "id": "q5ueiKcIw8Sl",
        "outputId": "dffbf870-6ddf-47b9-8082-588b67fff6df",
        "colab": {
          "base_uri": "https://localhost:8080/"
        }
      },
      "outputs": [
        {
          "output_type": "stream",
          "name": "stdout",
          "text": [
            "\u001b[2K   \u001b[90m━━━━━━━━━━━━━━━━━━━━━━━━━━━━━━━━━━━━━━━━\u001b[0m \u001b[32m99.9/99.9 kB\u001b[0m \u001b[31m4.7 MB/s\u001b[0m eta \u001b[36m0:00:00\u001b[0m\n",
            "\u001b[2K   \u001b[90m━━━━━━━━━━━━━━━━━━━━━━━━━━━━━━━━━━━━━━━━\u001b[0m \u001b[32m456.0/456.0 kB\u001b[0m \u001b[31m2.3 MB/s\u001b[0m eta \u001b[36m0:00:00\u001b[0m\n",
            "\u001b[2K   \u001b[90m━━━━━━━━━━━━━━━━━━━━━━━━━━━━━━━━━━━━━━━━\u001b[0m \u001b[32m4.7/4.7 MB\u001b[0m \u001b[31m105.0 MB/s\u001b[0m eta \u001b[36m0:00:00\u001b[0m\n",
            "\u001b[2K   \u001b[90m━━━━━━━━━━━━━━━━━━━━━━━━━━━━━━━━━━━━━━━━\u001b[0m \u001b[32m319.2/319.2 kB\u001b[0m \u001b[31m22.7 MB/s\u001b[0m eta \u001b[36m0:00:00\u001b[0m\n",
            "\u001b[2K   \u001b[90m━━━━━━━━━━━━━━━━━━━━━━━━━━━━━━━━━━━━━━━━\u001b[0m \u001b[32m406.3/406.3 kB\u001b[0m \u001b[31m26.2 MB/s\u001b[0m eta \u001b[36m0:00:00\u001b[0m\n",
            "\u001b[2K   \u001b[90m━━━━━━━━━━━━━━━━━━━━━━━━━━━━━━━━━━━━━━━━\u001b[0m \u001b[32m86.2/86.2 kB\u001b[0m \u001b[31m7.4 MB/s\u001b[0m eta \u001b[36m0:00:00\u001b[0m\n",
            "\u001b[2K   \u001b[90m━━━━━━━━━━━━━━━━━━━━━━━━━━━━━━━━━━━━━━━━\u001b[0m \u001b[32m55.4/55.4 kB\u001b[0m \u001b[31m4.2 MB/s\u001b[0m eta \u001b[36m0:00:00\u001b[0m\n",
            "\u001b[2K   \u001b[90m━━━━━━━━━━━━━━━━━━━━━━━━━━━━━━━━━━━━━━━━\u001b[0m \u001b[32m50.9/50.9 kB\u001b[0m \u001b[31m3.2 MB/s\u001b[0m eta \u001b[36m0:00:00\u001b[0m\n",
            "\u001b[2K   \u001b[90m━━━━━━━━━━━━━━━━━━━━━━━━━━━━━━━━━━━━━━━━\u001b[0m \u001b[32m561.5/561.5 kB\u001b[0m \u001b[31m24.8 MB/s\u001b[0m eta \u001b[36m0:00:00\u001b[0m\n",
            "\u001b[?25h"
          ]
        }
      ],
      "source": [
        "!pip install -q jax-ai-stack\n",
        "!pip install -Uq transformers huggingface_hub\n",
        "from google.colab import userdata\n",
        "import os\n",
        "os.environ['HF_TOKEN'] = userdata.get('HF_TOKEN')"
      ]
    },
    {
      "cell_type": "markdown",
      "metadata": {
        "id": "dLCAc5Wbyl4N"
      },
      "source": [
        "Take care of the imports."
      ]
    },
    {
      "cell_type": "code",
      "execution_count": 2,
      "metadata": {
        "id": "VnGrbnX1yjsQ"
      },
      "outputs": [],
      "source": [
        "import jax\n",
        "import jax.numpy as jnp\n",
        "from flax import nnx\n",
        "from safetensors import safe_open\n",
        "from pathlib import Path\n",
        "import os\n",
        "from huggingface_hub import snapshot_download\n",
        "from transformers import AutoTokenizer\n",
        "from dataclasses import dataclass\n",
        "from typing import TypedDict"
      ]
    },
    {
      "cell_type": "markdown",
      "metadata": {
        "id": "7oUeDSNozsF0"
      },
      "source": [
        "## Define the configuration"
      ]
    },
    {
      "cell_type": "markdown",
      "metadata": {
        "id": "ZlmwhxkcyD9V"
      },
      "source": [
        "The Hugging Face Transformers library has [some tips for using the Llama3 model](https://huggingface.co/docs/transformers/main/en/model_doc/llama3). For further reference, the modeling code in the transformers library lives in the [`models/llama/modeling_llama.py` file](https://github.com/huggingface/transformers/blob/main/src/transformers/models/llama/modeling_llama.py).\n",
        "\n",
        "Before we create the model in JAX, we need to define some parameters. You can refer to the [Llama2 documentation for the configuration options](https://huggingface.co/docs/transformers/main/en/model_doc/llama2#transformers.LlamaConfig)."
      ]
    },
    {
      "cell_type": "code",
      "execution_count": 3,
      "metadata": {
        "id": "9WErwCTtzv7x"
      },
      "outputs": [],
      "source": [
        "@dataclass\n",
        "class LlamaConfig:\n",
        "    def __init__(self):\n",
        "        self.dim = 2048\n",
        "        self.n_layers = 16\n",
        "        self.n_heads = 32\n",
        "        self.n_kv_heads = 8\n",
        "        self.head_dim = self.dim // self.n_heads\n",
        "        self.intermediate_size = 14336\n",
        "        self.vocab_size = 128256\n",
        "        self.multiple_of = 256\n",
        "        self.norm_eps = 1e-05\n",
        "        self.rope_theta = 500000.0\n",
        "\n",
        "config = LlamaConfig()"
      ]
    },
    {
      "cell_type": "markdown",
      "metadata": {
        "id": "mRNFx-eBywHO"
      },
      "source": [
        "## Load the model weights\n",
        "\n",
        "We'll use the transformers library to download the model weights.\n",
        "\n",
        "Meta requires [acceptance of the license](https://huggingface.co/meta-llama/Meta-Llama-3-8B-Instruct/discussions/130) before you can access the files. You will also need a Hugging Face access token, please refer to [Hugging Face documentation](https://huggingface.co/docs/hub/en/security-tokens) to set it up."
      ]
    },
    {
      "cell_type": "code",
      "execution_count": 4,
      "metadata": {
        "colab": {
          "base_uri": "https://localhost:8080/",
          "height": 99,
          "referenced_widgets": [
            "a33a122c26db497e87f8bc69532ea376",
            "a01c41589b8b45538931fa348a159660",
            "b324f18a53854890b954868f5c3450c3",
            "ea12accbce8e4eabac825ba9d5314611",
            "6bee4c61ef4e44a99b16bd89f9f58dcb",
            "5e8251acdd334cb1b4e96406f4ddbdc5",
            "e82a256fabc14ced9e234184457d451a",
            "985210e2c0564147a88eabd0f5bcdbf9",
            "dbac1109f9a3400d80e038c89e876451",
            "485a2bc18e874c24abf4dc0c977a6195",
            "977d8672868c403d9d02a57aab3aa336",
            "4476314a8adf4bfeb8ac7090645a65dc",
            "12b69f84c82f4e20a1a7580e9c18aac4",
            "6cd0f5a4b3c14383bfbd9fd5757b931a",
            "f14d5a75ddf24a40965a1bac16138b2f",
            "d211f8df31854dc6a7e35922498a75bd",
            "6349ca2e61d64b6fa90233b037421843",
            "27bf8312bc14498aa9ef45042613c054",
            "c09a6a14d8d843aaa277437ec1e57ee4",
            "e73be1d264454ff88460b9ffb444e7d3",
            "5e8c25c4dafb4acaad2552e3c395bb82",
            "34b7c238fb8646dfb469445cd60b965d"
          ]
        },
        "id": "oVAJOEEOzEA9",
        "outputId": "a58fde75-10bb-4490-c113-99fbde2a6df0"
      },
      "outputs": [
        {
          "output_type": "display_data",
          "data": {
            "text/plain": [
              "Fetching 1 files:   0%|          | 0/1 [00:00<?, ?it/s]"
            ],
            "application/vnd.jupyter.widget-view+json": {
              "version_major": 2,
              "version_minor": 0,
              "model_id": "a33a122c26db497e87f8bc69532ea376"
            }
          },
          "metadata": {}
        },
        {
          "output_type": "display_data",
          "data": {
            "text/plain": [
              "model.safetensors:   0%|          | 0.00/2.47G [00:00<?, ?B/s]"
            ],
            "application/vnd.jupyter.widget-view+json": {
              "version_major": 2,
              "version_minor": 0,
              "model_id": "4476314a8adf4bfeb8ac7090645a65dc"
            }
          },
          "metadata": {}
        },
        {
          "output_type": "execute_result",
          "data": {
            "text/plain": [
              "'/kaggle/tmp/meta-llama/Llama-3.2-1B-instruct'"
            ],
            "application/vnd.google.colaboratory.intrinsic+json": {
              "type": "string"
            }
          },
          "metadata": {},
          "execution_count": 4
        }
      ],
      "source": [
        "model_id = \"meta-llama/Llama-3.2-1B-instruct\"\n",
        "if os.path.exists('/kaggle'):\n",
        "    weights_base_dir = '/kaggle/tmp'\n",
        "elif os.path.exists('/content'):\n",
        "    # Colab\n",
        "    weights_base_dir = '/content'\n",
        "else:\n",
        "    # Local machine\n",
        "    weights_base_dir = '.'\n",
        "\n",
        "path_to_model_weights = os.path.join(weights_base_dir, model_id)\n",
        "\n",
        "snapshot_download(repo_id=model_id, local_dir=path_to_model_weights, allow_patterns=[\"*.safetensors\"])"
      ]
    },
    {
      "cell_type": "markdown",
      "metadata": {
        "id": "4Xo6QyVR0UkF"
      },
      "source": [
        "Then extract the model weights from the safetensors file and store them in the `weights` dict. These weights will be loaded into our JAX model soon."
      ]
    },
    {
      "cell_type": "code",
      "execution_count": 5,
      "metadata": {
        "id": "pERpzsPS0fLj"
      },
      "outputs": [],
      "source": [
        "def load_safetensors():\n",
        "    weights = {}\n",
        "    safetensors_files = Path(path_to_model_weights).glob('*.safetensors')\n",
        "\n",
        "    for file in safetensors_files:\n",
        "        with safe_open(file, framework=\"jax\", device=\"cpu\") as f:\n",
        "            for key in f.keys():\n",
        "                weights[key] = f.get_tensor(key)\n",
        "    return weights\n",
        "\n",
        "weights = load_safetensors()"
      ]
    },
    {
      "cell_type": "markdown",
      "metadata": {
        "id": "6ToKOCWIPJl1"
      },
      "source": [
        "Note that the weights are stored as `bfloat16`."
      ]
    },
    {
      "cell_type": "markdown",
      "metadata": {
        "id": "vQ7Bmvj70jjA"
      },
      "source": [
        "## Define the Flax model"
      ]
    },
    {
      "cell_type": "markdown",
      "metadata": {
        "id": "HdHQwfSO1xfY"
      },
      "source": [
        "Now we can define the model in Flax.\n",
        "\n",
        "[This Transformer vs Llama diagram](https://docs.nvidia.com/deeplearning/transformer-engine/user-guide/_images/transformer_vs_llama.svg) from Nvidia visualizes the model architecture pretty nicely. We will define each layer using [Flax's NNX.Module](https://flax.readthedocs.io/en/latest/api_reference/flax.nnx/module.html#flax.nnx.Module).\n",
        "\n",
        "We will start by defining the RMS normalization layer. Note how we load the parameters from the `weights` dict."
      ]
    },
    {
      "cell_type": "code",
      "execution_count": 6,
      "metadata": {
        "id": "8Zi7p42-0qya"
      },
      "outputs": [],
      "source": [
        "class LlamaRMSNorm(nnx.Module):\n",
        "\n",
        "    def __init__(self, name=None, layer_idx=None, rngs=None):\n",
        "        if name is None and layer_idx is None:\n",
        "            # Final normalization layer\n",
        "            self.norm_weights = nnx.Param(weights[\"model.norm.weight\"], rngs=rngs)\n",
        "        else:\n",
        "            self.norm_weights = nnx.Param(weights[f\"model.layers.{layer_idx}.{name}.weight\"], rngs=rngs)\n",
        "\n",
        "    def __call__(self, hidden_states):\n",
        "        input_dtype = hidden_states.dtype\n",
        "        hidden_states = hidden_states.astype(jnp.float32)\n",
        "        squared_mean = jnp.mean(jnp.square(hidden_states), axis=-1, keepdims=True)\n",
        "        hidden_states = hidden_states * jnp.reciprocal(jnp.sqrt(squared_mean + config.norm_eps))\n",
        "        return self.norm_weights * hidden_states.astype(input_dtype)"
      ]
    },
    {
      "cell_type": "markdown",
      "metadata": {
        "id": "8ZecTSm_2SVT"
      },
      "source": [
        "Llama 3 uses [Rotary Position Embedding (RoPE)](https://arxiv.org/abs/2104.09864) to encode both token and positional embeddings. For a gentle introduction to RoPE, please refer to the [CMU lecture slides](https://www.cs.cmu.edu/~mgormley/courses/10423-s24//slides/lecture5-vit-ink.pdf) and this awesome [EleutherAI blog](https://blog.eleuther.ai/rotary-embeddings/)."
      ]
    },
    {
      "cell_type": "code",
      "execution_count": 7,
      "metadata": {
        "id": "ZgrersK60ycn"
      },
      "outputs": [],
      "source": [
        "class LlamaRotaryEmbedding(nnx.Module):\n",
        "\n",
        "    def __init__(self, dim, base=10000, rngs=None):\n",
        "        self.dim = dim\n",
        "        self.base = base\n",
        "\n",
        "    def __call__(self, position_ids):\n",
        "        inv_freq = 1.0 / (self.base ** (jnp.arange(0, self.dim, 2, dtype=jnp.float32) / self.dim))\n",
        "        inv_freq_expanded = jnp.expand_dims(inv_freq, axis=(0, 1))\n",
        "        position_ids_expanded = jnp.expand_dims(position_ids, axis=(0, 2)).astype(jnp.float32)\n",
        "        freqs = jnp.einsum('bij,bjk->bijk', position_ids_expanded, inv_freq_expanded)\n",
        "        emb = jnp.concatenate([freqs, freqs], axis=-1)\n",
        "        cos = jnp.cos(emb).squeeze(2).astype(jnp.bfloat16)\n",
        "        sin = jnp.sin(emb).squeeze(2).astype(jnp.bfloat16)\n",
        "        return cos, sin"
      ]
    },
    {
      "cell_type": "markdown",
      "metadata": {
        "id": "8omcCyDO4OdS"
      },
      "source": [
        "Now we create the attention layers. Note how we load the weights into the q, k and v projection layers."
      ]
    },
    {
      "cell_type": "code",
      "execution_count": 8,
      "metadata": {
        "id": "vkPG8ILr0zwg"
      },
      "outputs": [],
      "source": [
        "\n",
        "class KVCache(TypedDict):\n",
        "    key: jax.Array\n",
        "    value: jax.Array\n",
        "\n",
        "class LlamaAttention(nnx.Module):\n",
        "\n",
        "    def __init__(self, layer_idx, rngs=None):\n",
        "        self.q_proj = nnx.Linear(config.dim, config.n_heads * config.head_dim, use_bias=False, rngs=rngs)\n",
        "        self.q_proj.kernel.value = weights[f\"model.layers.{layer_idx}.self_attn.q_proj.weight\"].T\n",
        "        self.k_proj = nnx.Linear(config.dim, config.n_kv_heads * config.head_dim, use_bias=False, rngs=rngs)\n",
        "        self.k_proj.kernel.value = weights[f\"model.layers.{layer_idx}.self_attn.k_proj.weight\"].T\n",
        "        self.v_proj = nnx.Linear(config.dim, config.n_kv_heads * config.head_dim, use_bias=False, rngs=rngs)\n",
        "        self.v_proj.kernel.value = weights[f\"model.layers.{layer_idx}.self_attn.v_proj.weight\"].T\n",
        "        self.o_proj = nnx.Linear(config.n_heads * config.head_dim, config.dim, use_bias=False, rngs=rngs)\n",
        "        self.o_proj.kernel.value = weights[f\"model.layers.{layer_idx}.self_attn.o_proj.weight\"].T\n",
        "        self.rotary_emb = LlamaRotaryEmbedding(config.head_dim, base=config.rope_theta, rngs=rngs)\n",
        "\n",
        "    def apply_rotary_pos_emb(self, q, k, cos, sin, unsqueeze_dim=1):\n",
        "        cos = jnp.expand_dims(cos, axis=unsqueeze_dim)\n",
        "        sin = jnp.expand_dims(sin, axis=unsqueeze_dim)\n",
        "        q_embed = (q * cos) + (self.rotate_half(q) * sin)\n",
        "        k_embed = (k * cos) + (self.rotate_half(k) * sin)\n",
        "        return q_embed, k_embed\n",
        "\n",
        "    def rotate_half(self, x):\n",
        "        x1 = x[..., : x.shape[-1] // 2]\n",
        "        x2 = x[..., x.shape[-1] // 2 :]\n",
        "        return jnp.concatenate([-x2, x1], axis=-1)\n",
        "\n",
        "    def repeat_kv(self, hidden_states, n_repeat):\n",
        "        batch, n_kv_heads, seq_len, head_dim = hidden_states.shape\n",
        "        if n_repeat == 1:\n",
        "            return hidden_states\n",
        "        hidden_states = hidden_states[:, :, None, :, :].repeat(n_repeat, axis=2)\n",
        "        return hidden_states.reshape(batch, n_kv_heads * n_repeat, seq_len, head_dim)\n",
        "\n",
        "    def __call__(self, x, position_ids, kv_cache: KVCache | None=None):\n",
        "        batch_size, seq_len, _ = x.shape\n",
        "        query = self.q_proj(x).reshape(batch_size, seq_len, config.n_heads, config.head_dim).transpose((0, 2, 1, 3))\n",
        "        key = self.k_proj(x).reshape(batch_size, seq_len, config.n_kv_heads, config.head_dim).transpose((0, 2, 1, 3))\n",
        "        value = self.v_proj(x).reshape(batch_size, seq_len, config.n_kv_heads, config.head_dim).transpose((0, 2, 1, 3))\n",
        "        # Assuming batch_size=1\n",
        "        cos, sin = self.rotary_emb(position_ids[0])\n",
        "        query, key = self.apply_rotary_pos_emb(query, key, cos, sin)\n",
        "\n",
        "        if kv_cache:\n",
        "            key = jnp.concatenate([kv_cache['key'], key], axis=2)\n",
        "            value = jnp.concatenate([kv_cache['value'], value], axis=2)\n",
        "\n",
        "        updated_kv_cache: KVCache = {'key': key, 'value': value}\n",
        "\n",
        "        key = self.repeat_kv(key, config.n_heads // config.n_kv_heads)\n",
        "        value = self.repeat_kv(value, config.n_heads // config.n_kv_heads)\n",
        "\n",
        "        attn_weights = jnp.matmul(query, jnp.transpose(key, (0, 1, 3, 2)))\n",
        "        attn_weights = (attn_weights.astype(jnp.float32) / jnp.sqrt(config.head_dim)).astype(jnp.bfloat16)\n",
        "        attn_weights = jax.nn.softmax(attn_weights.astype(jnp.float32), axis=-1).astype(jnp.bfloat16)\n",
        "        attn_output = jnp.matmul(attn_weights, value).transpose((0, 2, 1, 3)).reshape(batch_size, seq_len, -1)\n",
        "        output = self.o_proj(attn_output)\n",
        "        return output, updated_kv_cache"
      ]
    },
    {
      "cell_type": "markdown",
      "metadata": {
        "id": "J0hDkS4N3yor"
      },
      "source": [
        "MLP layer follows the attention layer. Similarly we load the weights into the gate, up and down projection layers."
      ]
    },
    {
      "cell_type": "code",
      "execution_count": 9,
      "metadata": {
        "id": "y5qP9b82047Y"
      },
      "outputs": [],
      "source": [
        "class LlamaMLP(nnx.Module):\n",
        "\n",
        "    def __init__(self, layer_idx, rngs=None):\n",
        "        self.gate_proj = nnx.Linear(config.dim, config.intermediate_size, use_bias=False, rngs=rngs)\n",
        "        self.gate_proj.kernel.value = weights[f\"model.layers.{layer_idx}.mlp.gate_proj.weight\"].T\n",
        "        self.up_proj = nnx.Linear(config.dim, config.intermediate_size, use_bias=False, rngs=rngs)\n",
        "        self.up_proj.kernel.value = weights[f\"model.layers.{layer_idx}.mlp.up_proj.weight\"].T\n",
        "        self.down_proj = nnx.Linear(config.intermediate_size, config.dim, use_bias=False, rngs=rngs)\n",
        "        self.down_proj.kernel.value = weights[f\"model.layers.{layer_idx}.mlp.down_proj.weight\"].T\n",
        "\n",
        "    def __call__(self, x):\n",
        "        return self.down_proj(jax.nn.silu(self.gate_proj(x)) * self.up_proj(x))"
      ]
    },
    {
      "cell_type": "markdown",
      "metadata": {
        "id": "keogeCxz30Tw"
      },
      "source": [
        "We assemble the decoder block."
      ]
    },
    {
      "cell_type": "code",
      "execution_count": 10,
      "metadata": {
        "id": "dW--6pPv1EQI"
      },
      "outputs": [],
      "source": [
        "class LlamaTransformerBlock(nnx.Module):\n",
        "\n",
        "    def __init__(self, layer_idx, rngs=None):\n",
        "        self.input_layernorm = LlamaRMSNorm(name=\"input_layernorm\", layer_idx=layer_idx, rngs=rngs)\n",
        "        self.attention = LlamaAttention(layer_idx=layer_idx, rngs=rngs)\n",
        "        self.post_attention_layernorm = LlamaRMSNorm(name=\"post_attention_layernorm\", layer_idx=layer_idx, rngs=rngs)\n",
        "        self.mlp = LlamaMLP(layer_idx=layer_idx, rngs=rngs)\n",
        "\n",
        "    def __call__(self, x, position_ids, kv_cache: KVCache | None = None):\n",
        "        residual = x\n",
        "        x = self.input_layernorm(x)\n",
        "        x, kv_cache = self.attention(x, position_ids, kv_cache)\n",
        "        x = residual + x\n",
        "\n",
        "        residual = x\n",
        "        x = self.post_attention_layernorm(x)\n",
        "        x = self.mlp(x)\n",
        "        x = residual + x\n",
        "        return x, kv_cache"
      ]
    },
    {
      "cell_type": "markdown",
      "metadata": {
        "id": "5mvjJWU54Biz"
      },
      "source": [
        "Finally we have the enire model."
      ]
    },
    {
      "cell_type": "code",
      "execution_count": 11,
      "metadata": {
        "id": "W85ioRay1HYz"
      },
      "outputs": [],
      "source": [
        "class LlamaForCausalLM(nnx.Module):\n",
        "\n",
        "    def __init__(self, rngs=None):\n",
        "        self.token_embed = nnx.Embed(num_embeddings=config.vocab_size, features=config.dim, dtype=jnp.bfloat16, rngs=rngs)\n",
        "        self.token_embed.embedding.value = weights[\"model.embed_tokens.weight\"]\n",
        "\n",
        "        self.layers = [LlamaTransformerBlock(layer_idx=idx, rngs=rngs) for idx in range(config.n_layers)]\n",
        "        self.lm_head = nnx.Linear(config.dim, config.vocab_size, use_bias=False, rngs=rngs)\n",
        "        self.lm_head.kernel.value = weights[\"model.embed_tokens.weight\"].T\n",
        "        self.norm = LlamaRMSNorm(name=None, layer_idx=None, rngs=rngs)\n",
        "\n",
        "    def __call__(self, input_ids, position_ids, kv_cache: list[KVCache] | None = None):\n",
        "        assert input_ids.shape[0] == 1, \"Only batch size 1 is supported\"\n",
        "        x = self.token_embed(input_ids)\n",
        "\n",
        "        new_kv_cache = []\n",
        "        for i, layer in enumerate(self.layers):\n",
        "            x, new_cache = layer(x, position_ids, kv_cache[i] if kv_cache else None)\n",
        "            new_kv_cache.append(new_cache)\n",
        "\n",
        "        x = self.norm(x)\n",
        "        logits = self.lm_head(x)\n",
        "        return logits, new_kv_cache\n",
        "\n",
        "    @nnx.jit\n",
        "    def generate_step(self, params, static_def, input_ids, position_ids, kv_cache: list[KVCache] | None):\n",
        "        model = nnx.merge(params, static_def)\n",
        "        logits, new_kv_cache = model(input_ids, position_ids, kv_cache)\n",
        "        next_token = jnp.argmax(logits[:, -1, :], axis=-1)\n",
        "        return next_token, new_kv_cache\n",
        "\n",
        "    def generate_text(self, tokenizer, input_text, max_length=50):\n",
        "        params, static_def = nnx.split(self)\n",
        "        input_ids = tokenizer(input_text, return_tensors=\"jax\")[\"input_ids\"]\n",
        "        position_ids = jnp.asarray([jnp.arange(input_ids.shape[1])])\n",
        "\n",
        "        logits, kv_cache = self(input_ids, position_ids)\n",
        "        next_token = jnp.argmax(logits[:, -1, :], axis=-1)\n",
        "\n",
        "        print(tokenizer.decode(next_token), end=\"\", flush=True)\n",
        "        input_ids = jnp.concatenate([input_ids, next_token[:, None]], axis=1)\n",
        "\n",
        "        for _ in range(max_length - 1):\n",
        "            position_ids = jnp.asarray([[input_ids.shape[1] - 1]])\n",
        "            next_token, kv_cache = self.generate_step(params, static_def, next_token[:, None], position_ids, kv_cache)\n",
        "\n",
        "            print(tokenizer.decode(next_token), end=\"\", flush=True)\n",
        "\n",
        "            input_ids = jnp.concatenate([input_ids, next_token[:, None]], axis=1)"
      ]
    },
    {
      "cell_type": "markdown",
      "metadata": {
        "id": "gBfFRlNx1b8Z"
      },
      "source": [
        "## Run the Flax model"
      ]
    },
    {
      "cell_type": "markdown",
      "metadata": {
        "id": "ZWcxgcsI4ESh"
      },
      "source": [
        "Let's take it for a spin! We are still going to use the tokenizer from Hugging Face (since our primary focus is re-building the model instead of the tokenizer)."
      ]
    },
    {
      "cell_type": "code",
      "execution_count": 12,
      "metadata": {
        "colab": {
          "base_uri": "https://localhost:8080/",
          "height": 376,
          "referenced_widgets": [
            "af72e157173e4ae8be140bcaecfdf6f6",
            "be8fc6c06f164adcb30e7b2ad3d40949",
            "32ad7615e52d4d5da451982f3f8a0ca5",
            "6d504b03d7ff4d9682157e8f088ac366",
            "7f4151e67f3940b295eba4613a9ed94a",
            "57010564c9314098a53148f8e083d50d",
            "bd5a6ffa81ed42fcb38c67a6c6080dfb",
            "d98252689aee4869b9893bab13a02787",
            "df54afa3f4b1495d995057c822fc26db",
            "84952c13158b44eba29854a9d34d2b33",
            "8616bb04202a416dbaab0d53b5d5f302",
            "301671f1ffa44332a9ff7dcfc5b49106",
            "325e128682cf45ec97104668d2473758",
            "e820143f3f954fe6937bf268cbf4a9cb",
            "99d9fce74c09455083cd65acf3c0af29",
            "4b65a86e14174da985d6ecb20440b899",
            "4080336b3de3487b93db084ef3e3f506",
            "9500000458124e7eaac6e334cd95188c",
            "df5eb5ced6044e74a04f3ee59b5acf2d",
            "dad1b578a5e84d93b55b9fc85eb63288",
            "852b79a0cc134007a6b7dfc52e6ac4ab",
            "a2e87895f32e41b3aed691360d4fad50",
            "73749c79019a4b6898131256f67c7550",
            "77c4db1829014ed3beb4a2a419aa7cdd",
            "fe38fb647bfe4daea5f16507fccda20e",
            "3caf7a417eca4686b62ce61f4f66a0b0",
            "3434347d3d464e51a0ac8782fb796ce7",
            "1ddf7ae0ce8f4f51888cfc7fdce2079d",
            "7d4f9c79bd45407fa56349ba8049519b",
            "5c1976a72996403eb8a3c0383e02326f",
            "0fd7f67e2c4d4e46b06c2899f7941853",
            "fdd311df1a4e4668ae66e3d118baf3cf",
            "ecef6e8a0c524b5d870725c8a30778c0"
          ]
        },
        "id": "0qLDX1aDXNdP",
        "outputId": "5e89c310-c230-41d1-add2-dd18a513f60e"
      },
      "outputs": [
        {
          "output_type": "display_data",
          "data": {
            "text/plain": [
              "tokenizer_config.json:   0%|          | 0.00/54.5k [00:00<?, ?B/s]"
            ],
            "application/vnd.jupyter.widget-view+json": {
              "version_major": 2,
              "version_minor": 0,
              "model_id": "af72e157173e4ae8be140bcaecfdf6f6"
            }
          },
          "metadata": {}
        },
        {
          "output_type": "display_data",
          "data": {
            "text/plain": [
              "tokenizer.json:   0%|          | 0.00/9.09M [00:00<?, ?B/s]"
            ],
            "application/vnd.jupyter.widget-view+json": {
              "version_major": 2,
              "version_minor": 0,
              "model_id": "301671f1ffa44332a9ff7dcfc5b49106"
            }
          },
          "metadata": {}
        },
        {
          "output_type": "display_data",
          "data": {
            "text/plain": [
              "special_tokens_map.json:   0%|          | 0.00/296 [00:00<?, ?B/s]"
            ],
            "application/vnd.jupyter.widget-view+json": {
              "version_major": 2,
              "version_minor": 0,
              "model_id": "73749c79019a4b6898131256f67c7550"
            }
          },
          "metadata": {}
        },
        {
          "output_type": "stream",
          "name": "stderr",
          "text": [
            "TensorFlow and JAX classes are deprecated and will be removed in Transformers v5. We recommend migrating to PyTorch classes or pinning your version of Transformers.\n"
          ]
        },
        {
          "output_type": "stream",
          "name": "stdout",
          "text": [
            "<|start_header_id|>system<|end_header_id|>\n",
            "\n",
            "You are a helpful assistant<|eot_id|><|start_header_id|>user<|end_header_id|>\n",
            "\n",
            "How do you make a pancake?<|eot_id|><|start_header_id|>assistant<|end_header_id|>\n",
            "\n",
            "Making pancakes is a simple process that requires just a few ingredients and some basic cooking skills. Here's a step-by-step guide:\n",
            "\n",
            "**Ingredients:**\n",
            "\n",
            "* 1 cup all-purpose flour\n",
            "* 2 tablespoons sugar\n",
            "* 2 teaspoons baking powder\n"
          ]
        }
      ],
      "source": [
        "def main():\n",
        "    model = LlamaForCausalLM(rngs=nnx.Rngs(0))\n",
        "    tokenizer = AutoTokenizer.from_pretrained(model_id)\n",
        "\n",
        "    input_text = \"\"\"<|start_header_id|>system<|end_header_id|>\n",
        "\n",
        "You are a helpful assistant<|eot_id|><|start_header_id|>user<|end_header_id|>\n",
        "\n",
        "How do you make a pancake?<|eot_id|><|start_header_id|>assistant<|end_header_id|>\n",
        "\n",
        "\"\"\"\n",
        "    print(input_text, end=\"\")\n",
        "    model.generate_text(tokenizer, input_text)\n",
        "    print()\n",
        "\n",
        "if __name__ == \"__main__\":\n",
        "    main()"
      ]
    },
    {
      "cell_type": "markdown",
      "metadata": {
        "id": "QLAM95pf5RMu"
      },
      "source": [
        "There you have it. We have successfully converted the Hugging Face model weights from the safetensors file, loaded them up in our JAX model, and run the model with KV cache."
      ]
    },
    {
      "cell_type": "code",
      "execution_count": 12,
      "metadata": {
        "id": "S6ZA1m91qtaY"
      },
      "outputs": [],
      "source": []
    }
  ],
  "metadata": {
    "colab": {
      "provenance": [],
      "machine_shape": "hm"
    },
    "jupytext": {
      "formats": "ipynb,md:myst"
    },
    "kernelspec": {
      "display_name": "Python 3",
      "name": "python3"
    },
    "language_info": {
      "codemirror_mode": {
        "name": "ipython",
        "version": 3
      },
      "file_extension": ".py",
      "mimetype": "text/x-python",
      "name": "python",
      "nbconvert_exporter": "python",
      "pygments_lexer": "ipython3",
      "version": "3.12.7"
    },
    "widgets": {
      "application/vnd.jupyter.widget-state+json": {
        "a33a122c26db497e87f8bc69532ea376": {
          "model_module": "@jupyter-widgets/controls",
          "model_name": "HBoxModel",
          "model_module_version": "1.5.0",
          "state": {
            "_dom_classes": [],
            "_model_module": "@jupyter-widgets/controls",
            "_model_module_version": "1.5.0",
            "_model_name": "HBoxModel",
            "_view_count": null,
            "_view_module": "@jupyter-widgets/controls",
            "_view_module_version": "1.5.0",
            "_view_name": "HBoxView",
            "box_style": "",
            "children": [
              "IPY_MODEL_a01c41589b8b45538931fa348a159660",
              "IPY_MODEL_b324f18a53854890b954868f5c3450c3",
              "IPY_MODEL_ea12accbce8e4eabac825ba9d5314611"
            ],
            "layout": "IPY_MODEL_6bee4c61ef4e44a99b16bd89f9f58dcb"
          }
        },
        "a01c41589b8b45538931fa348a159660": {
          "model_module": "@jupyter-widgets/controls",
          "model_name": "HTMLModel",
          "model_module_version": "1.5.0",
          "state": {
            "_dom_classes": [],
            "_model_module": "@jupyter-widgets/controls",
            "_model_module_version": "1.5.0",
            "_model_name": "HTMLModel",
            "_view_count": null,
            "_view_module": "@jupyter-widgets/controls",
            "_view_module_version": "1.5.0",
            "_view_name": "HTMLView",
            "description": "",
            "description_tooltip": null,
            "layout": "IPY_MODEL_5e8251acdd334cb1b4e96406f4ddbdc5",
            "placeholder": "​",
            "style": "IPY_MODEL_e82a256fabc14ced9e234184457d451a",
            "value": "Fetching 1 files: 100%"
          }
        },
        "b324f18a53854890b954868f5c3450c3": {
          "model_module": "@jupyter-widgets/controls",
          "model_name": "FloatProgressModel",
          "model_module_version": "1.5.0",
          "state": {
            "_dom_classes": [],
            "_model_module": "@jupyter-widgets/controls",
            "_model_module_version": "1.5.0",
            "_model_name": "FloatProgressModel",
            "_view_count": null,
            "_view_module": "@jupyter-widgets/controls",
            "_view_module_version": "1.5.0",
            "_view_name": "ProgressView",
            "bar_style": "success",
            "description": "",
            "description_tooltip": null,
            "layout": "IPY_MODEL_985210e2c0564147a88eabd0f5bcdbf9",
            "max": 1,
            "min": 0,
            "orientation": "horizontal",
            "style": "IPY_MODEL_dbac1109f9a3400d80e038c89e876451",
            "value": 1
          }
        },
        "ea12accbce8e4eabac825ba9d5314611": {
          "model_module": "@jupyter-widgets/controls",
          "model_name": "HTMLModel",
          "model_module_version": "1.5.0",
          "state": {
            "_dom_classes": [],
            "_model_module": "@jupyter-widgets/controls",
            "_model_module_version": "1.5.0",
            "_model_name": "HTMLModel",
            "_view_count": null,
            "_view_module": "@jupyter-widgets/controls",
            "_view_module_version": "1.5.0",
            "_view_name": "HTMLView",
            "description": "",
            "description_tooltip": null,
            "layout": "IPY_MODEL_485a2bc18e874c24abf4dc0c977a6195",
            "placeholder": "​",
            "style": "IPY_MODEL_977d8672868c403d9d02a57aab3aa336",
            "value": " 1/1 [00:14&lt;00:00, 14.74s/it]"
          }
        },
        "6bee4c61ef4e44a99b16bd89f9f58dcb": {
          "model_module": "@jupyter-widgets/base",
          "model_name": "LayoutModel",
          "model_module_version": "1.2.0",
          "state": {
            "_model_module": "@jupyter-widgets/base",
            "_model_module_version": "1.2.0",
            "_model_name": "LayoutModel",
            "_view_count": null,
            "_view_module": "@jupyter-widgets/base",
            "_view_module_version": "1.2.0",
            "_view_name": "LayoutView",
            "align_content": null,
            "align_items": null,
            "align_self": null,
            "border": null,
            "bottom": null,
            "display": null,
            "flex": null,
            "flex_flow": null,
            "grid_area": null,
            "grid_auto_columns": null,
            "grid_auto_flow": null,
            "grid_auto_rows": null,
            "grid_column": null,
            "grid_gap": null,
            "grid_row": null,
            "grid_template_areas": null,
            "grid_template_columns": null,
            "grid_template_rows": null,
            "height": null,
            "justify_content": null,
            "justify_items": null,
            "left": null,
            "margin": null,
            "max_height": null,
            "max_width": null,
            "min_height": null,
            "min_width": null,
            "object_fit": null,
            "object_position": null,
            "order": null,
            "overflow": null,
            "overflow_x": null,
            "overflow_y": null,
            "padding": null,
            "right": null,
            "top": null,
            "visibility": null,
            "width": null
          }
        },
        "5e8251acdd334cb1b4e96406f4ddbdc5": {
          "model_module": "@jupyter-widgets/base",
          "model_name": "LayoutModel",
          "model_module_version": "1.2.0",
          "state": {
            "_model_module": "@jupyter-widgets/base",
            "_model_module_version": "1.2.0",
            "_model_name": "LayoutModel",
            "_view_count": null,
            "_view_module": "@jupyter-widgets/base",
            "_view_module_version": "1.2.0",
            "_view_name": "LayoutView",
            "align_content": null,
            "align_items": null,
            "align_self": null,
            "border": null,
            "bottom": null,
            "display": null,
            "flex": null,
            "flex_flow": null,
            "grid_area": null,
            "grid_auto_columns": null,
            "grid_auto_flow": null,
            "grid_auto_rows": null,
            "grid_column": null,
            "grid_gap": null,
            "grid_row": null,
            "grid_template_areas": null,
            "grid_template_columns": null,
            "grid_template_rows": null,
            "height": null,
            "justify_content": null,
            "justify_items": null,
            "left": null,
            "margin": null,
            "max_height": null,
            "max_width": null,
            "min_height": null,
            "min_width": null,
            "object_fit": null,
            "object_position": null,
            "order": null,
            "overflow": null,
            "overflow_x": null,
            "overflow_y": null,
            "padding": null,
            "right": null,
            "top": null,
            "visibility": null,
            "width": null
          }
        },
        "e82a256fabc14ced9e234184457d451a": {
          "model_module": "@jupyter-widgets/controls",
          "model_name": "DescriptionStyleModel",
          "model_module_version": "1.5.0",
          "state": {
            "_model_module": "@jupyter-widgets/controls",
            "_model_module_version": "1.5.0",
            "_model_name": "DescriptionStyleModel",
            "_view_count": null,
            "_view_module": "@jupyter-widgets/base",
            "_view_module_version": "1.2.0",
            "_view_name": "StyleView",
            "description_width": ""
          }
        },
        "985210e2c0564147a88eabd0f5bcdbf9": {
          "model_module": "@jupyter-widgets/base",
          "model_name": "LayoutModel",
          "model_module_version": "1.2.0",
          "state": {
            "_model_module": "@jupyter-widgets/base",
            "_model_module_version": "1.2.0",
            "_model_name": "LayoutModel",
            "_view_count": null,
            "_view_module": "@jupyter-widgets/base",
            "_view_module_version": "1.2.0",
            "_view_name": "LayoutView",
            "align_content": null,
            "align_items": null,
            "align_self": null,
            "border": null,
            "bottom": null,
            "display": null,
            "flex": null,
            "flex_flow": null,
            "grid_area": null,
            "grid_auto_columns": null,
            "grid_auto_flow": null,
            "grid_auto_rows": null,
            "grid_column": null,
            "grid_gap": null,
            "grid_row": null,
            "grid_template_areas": null,
            "grid_template_columns": null,
            "grid_template_rows": null,
            "height": null,
            "justify_content": null,
            "justify_items": null,
            "left": null,
            "margin": null,
            "max_height": null,
            "max_width": null,
            "min_height": null,
            "min_width": null,
            "object_fit": null,
            "object_position": null,
            "order": null,
            "overflow": null,
            "overflow_x": null,
            "overflow_y": null,
            "padding": null,
            "right": null,
            "top": null,
            "visibility": null,
            "width": null
          }
        },
        "dbac1109f9a3400d80e038c89e876451": {
          "model_module": "@jupyter-widgets/controls",
          "model_name": "ProgressStyleModel",
          "model_module_version": "1.5.0",
          "state": {
            "_model_module": "@jupyter-widgets/controls",
            "_model_module_version": "1.5.0",
            "_model_name": "ProgressStyleModel",
            "_view_count": null,
            "_view_module": "@jupyter-widgets/base",
            "_view_module_version": "1.2.0",
            "_view_name": "StyleView",
            "bar_color": null,
            "description_width": ""
          }
        },
        "485a2bc18e874c24abf4dc0c977a6195": {
          "model_module": "@jupyter-widgets/base",
          "model_name": "LayoutModel",
          "model_module_version": "1.2.0",
          "state": {
            "_model_module": "@jupyter-widgets/base",
            "_model_module_version": "1.2.0",
            "_model_name": "LayoutModel",
            "_view_count": null,
            "_view_module": "@jupyter-widgets/base",
            "_view_module_version": "1.2.0",
            "_view_name": "LayoutView",
            "align_content": null,
            "align_items": null,
            "align_self": null,
            "border": null,
            "bottom": null,
            "display": null,
            "flex": null,
            "flex_flow": null,
            "grid_area": null,
            "grid_auto_columns": null,
            "grid_auto_flow": null,
            "grid_auto_rows": null,
            "grid_column": null,
            "grid_gap": null,
            "grid_row": null,
            "grid_template_areas": null,
            "grid_template_columns": null,
            "grid_template_rows": null,
            "height": null,
            "justify_content": null,
            "justify_items": null,
            "left": null,
            "margin": null,
            "max_height": null,
            "max_width": null,
            "min_height": null,
            "min_width": null,
            "object_fit": null,
            "object_position": null,
            "order": null,
            "overflow": null,
            "overflow_x": null,
            "overflow_y": null,
            "padding": null,
            "right": null,
            "top": null,
            "visibility": null,
            "width": null
          }
        },
        "977d8672868c403d9d02a57aab3aa336": {
          "model_module": "@jupyter-widgets/controls",
          "model_name": "DescriptionStyleModel",
          "model_module_version": "1.5.0",
          "state": {
            "_model_module": "@jupyter-widgets/controls",
            "_model_module_version": "1.5.0",
            "_model_name": "DescriptionStyleModel",
            "_view_count": null,
            "_view_module": "@jupyter-widgets/base",
            "_view_module_version": "1.2.0",
            "_view_name": "StyleView",
            "description_width": ""
          }
        },
        "4476314a8adf4bfeb8ac7090645a65dc": {
          "model_module": "@jupyter-widgets/controls",
          "model_name": "HBoxModel",
          "model_module_version": "1.5.0",
          "state": {
            "_dom_classes": [],
            "_model_module": "@jupyter-widgets/controls",
            "_model_module_version": "1.5.0",
            "_model_name": "HBoxModel",
            "_view_count": null,
            "_view_module": "@jupyter-widgets/controls",
            "_view_module_version": "1.5.0",
            "_view_name": "HBoxView",
            "box_style": "",
            "children": [
              "IPY_MODEL_12b69f84c82f4e20a1a7580e9c18aac4",
              "IPY_MODEL_6cd0f5a4b3c14383bfbd9fd5757b931a",
              "IPY_MODEL_f14d5a75ddf24a40965a1bac16138b2f"
            ],
            "layout": "IPY_MODEL_d211f8df31854dc6a7e35922498a75bd"
          }
        },
        "12b69f84c82f4e20a1a7580e9c18aac4": {
          "model_module": "@jupyter-widgets/controls",
          "model_name": "HTMLModel",
          "model_module_version": "1.5.0",
          "state": {
            "_dom_classes": [],
            "_model_module": "@jupyter-widgets/controls",
            "_model_module_version": "1.5.0",
            "_model_name": "HTMLModel",
            "_view_count": null,
            "_view_module": "@jupyter-widgets/controls",
            "_view_module_version": "1.5.0",
            "_view_name": "HTMLView",
            "description": "",
            "description_tooltip": null,
            "layout": "IPY_MODEL_6349ca2e61d64b6fa90233b037421843",
            "placeholder": "​",
            "style": "IPY_MODEL_27bf8312bc14498aa9ef45042613c054",
            "value": "model.safetensors: 100%"
          }
        },
        "6cd0f5a4b3c14383bfbd9fd5757b931a": {
          "model_module": "@jupyter-widgets/controls",
          "model_name": "FloatProgressModel",
          "model_module_version": "1.5.0",
          "state": {
            "_dom_classes": [],
            "_model_module": "@jupyter-widgets/controls",
            "_model_module_version": "1.5.0",
            "_model_name": "FloatProgressModel",
            "_view_count": null,
            "_view_module": "@jupyter-widgets/controls",
            "_view_module_version": "1.5.0",
            "_view_name": "ProgressView",
            "bar_style": "success",
            "description": "",
            "description_tooltip": null,
            "layout": "IPY_MODEL_c09a6a14d8d843aaa277437ec1e57ee4",
            "max": 2471645608,
            "min": 0,
            "orientation": "horizontal",
            "style": "IPY_MODEL_e73be1d264454ff88460b9ffb444e7d3",
            "value": 2471645608
          }
        },
        "f14d5a75ddf24a40965a1bac16138b2f": {
          "model_module": "@jupyter-widgets/controls",
          "model_name": "HTMLModel",
          "model_module_version": "1.5.0",
          "state": {
            "_dom_classes": [],
            "_model_module": "@jupyter-widgets/controls",
            "_model_module_version": "1.5.0",
            "_model_name": "HTMLModel",
            "_view_count": null,
            "_view_module": "@jupyter-widgets/controls",
            "_view_module_version": "1.5.0",
            "_view_name": "HTMLView",
            "description": "",
            "description_tooltip": null,
            "layout": "IPY_MODEL_5e8c25c4dafb4acaad2552e3c395bb82",
            "placeholder": "​",
            "style": "IPY_MODEL_34b7c238fb8646dfb469445cd60b965d",
            "value": " 2.47G/2.47G [00:14&lt;00:00, 102MB/s]"
          }
        },
        "d211f8df31854dc6a7e35922498a75bd": {
          "model_module": "@jupyter-widgets/base",
          "model_name": "LayoutModel",
          "model_module_version": "1.2.0",
          "state": {
            "_model_module": "@jupyter-widgets/base",
            "_model_module_version": "1.2.0",
            "_model_name": "LayoutModel",
            "_view_count": null,
            "_view_module": "@jupyter-widgets/base",
            "_view_module_version": "1.2.0",
            "_view_name": "LayoutView",
            "align_content": null,
            "align_items": null,
            "align_self": null,
            "border": null,
            "bottom": null,
            "display": null,
            "flex": null,
            "flex_flow": null,
            "grid_area": null,
            "grid_auto_columns": null,
            "grid_auto_flow": null,
            "grid_auto_rows": null,
            "grid_column": null,
            "grid_gap": null,
            "grid_row": null,
            "grid_template_areas": null,
            "grid_template_columns": null,
            "grid_template_rows": null,
            "height": null,
            "justify_content": null,
            "justify_items": null,
            "left": null,
            "margin": null,
            "max_height": null,
            "max_width": null,
            "min_height": null,
            "min_width": null,
            "object_fit": null,
            "object_position": null,
            "order": null,
            "overflow": null,
            "overflow_x": null,
            "overflow_y": null,
            "padding": null,
            "right": null,
            "top": null,
            "visibility": null,
            "width": null
          }
        },
        "6349ca2e61d64b6fa90233b037421843": {
          "model_module": "@jupyter-widgets/base",
          "model_name": "LayoutModel",
          "model_module_version": "1.2.0",
          "state": {
            "_model_module": "@jupyter-widgets/base",
            "_model_module_version": "1.2.0",
            "_model_name": "LayoutModel",
            "_view_count": null,
            "_view_module": "@jupyter-widgets/base",
            "_view_module_version": "1.2.0",
            "_view_name": "LayoutView",
            "align_content": null,
            "align_items": null,
            "align_self": null,
            "border": null,
            "bottom": null,
            "display": null,
            "flex": null,
            "flex_flow": null,
            "grid_area": null,
            "grid_auto_columns": null,
            "grid_auto_flow": null,
            "grid_auto_rows": null,
            "grid_column": null,
            "grid_gap": null,
            "grid_row": null,
            "grid_template_areas": null,
            "grid_template_columns": null,
            "grid_template_rows": null,
            "height": null,
            "justify_content": null,
            "justify_items": null,
            "left": null,
            "margin": null,
            "max_height": null,
            "max_width": null,
            "min_height": null,
            "min_width": null,
            "object_fit": null,
            "object_position": null,
            "order": null,
            "overflow": null,
            "overflow_x": null,
            "overflow_y": null,
            "padding": null,
            "right": null,
            "top": null,
            "visibility": null,
            "width": null
          }
        },
        "27bf8312bc14498aa9ef45042613c054": {
          "model_module": "@jupyter-widgets/controls",
          "model_name": "DescriptionStyleModel",
          "model_module_version": "1.5.0",
          "state": {
            "_model_module": "@jupyter-widgets/controls",
            "_model_module_version": "1.5.0",
            "_model_name": "DescriptionStyleModel",
            "_view_count": null,
            "_view_module": "@jupyter-widgets/base",
            "_view_module_version": "1.2.0",
            "_view_name": "StyleView",
            "description_width": ""
          }
        },
        "c09a6a14d8d843aaa277437ec1e57ee4": {
          "model_module": "@jupyter-widgets/base",
          "model_name": "LayoutModel",
          "model_module_version": "1.2.0",
          "state": {
            "_model_module": "@jupyter-widgets/base",
            "_model_module_version": "1.2.0",
            "_model_name": "LayoutModel",
            "_view_count": null,
            "_view_module": "@jupyter-widgets/base",
            "_view_module_version": "1.2.0",
            "_view_name": "LayoutView",
            "align_content": null,
            "align_items": null,
            "align_self": null,
            "border": null,
            "bottom": null,
            "display": null,
            "flex": null,
            "flex_flow": null,
            "grid_area": null,
            "grid_auto_columns": null,
            "grid_auto_flow": null,
            "grid_auto_rows": null,
            "grid_column": null,
            "grid_gap": null,
            "grid_row": null,
            "grid_template_areas": null,
            "grid_template_columns": null,
            "grid_template_rows": null,
            "height": null,
            "justify_content": null,
            "justify_items": null,
            "left": null,
            "margin": null,
            "max_height": null,
            "max_width": null,
            "min_height": null,
            "min_width": null,
            "object_fit": null,
            "object_position": null,
            "order": null,
            "overflow": null,
            "overflow_x": null,
            "overflow_y": null,
            "padding": null,
            "right": null,
            "top": null,
            "visibility": null,
            "width": null
          }
        },
        "e73be1d264454ff88460b9ffb444e7d3": {
          "model_module": "@jupyter-widgets/controls",
          "model_name": "ProgressStyleModel",
          "model_module_version": "1.5.0",
          "state": {
            "_model_module": "@jupyter-widgets/controls",
            "_model_module_version": "1.5.0",
            "_model_name": "ProgressStyleModel",
            "_view_count": null,
            "_view_module": "@jupyter-widgets/base",
            "_view_module_version": "1.2.0",
            "_view_name": "StyleView",
            "bar_color": null,
            "description_width": ""
          }
        },
        "5e8c25c4dafb4acaad2552e3c395bb82": {
          "model_module": "@jupyter-widgets/base",
          "model_name": "LayoutModel",
          "model_module_version": "1.2.0",
          "state": {
            "_model_module": "@jupyter-widgets/base",
            "_model_module_version": "1.2.0",
            "_model_name": "LayoutModel",
            "_view_count": null,
            "_view_module": "@jupyter-widgets/base",
            "_view_module_version": "1.2.0",
            "_view_name": "LayoutView",
            "align_content": null,
            "align_items": null,
            "align_self": null,
            "border": null,
            "bottom": null,
            "display": null,
            "flex": null,
            "flex_flow": null,
            "grid_area": null,
            "grid_auto_columns": null,
            "grid_auto_flow": null,
            "grid_auto_rows": null,
            "grid_column": null,
            "grid_gap": null,
            "grid_row": null,
            "grid_template_areas": null,
            "grid_template_columns": null,
            "grid_template_rows": null,
            "height": null,
            "justify_content": null,
            "justify_items": null,
            "left": null,
            "margin": null,
            "max_height": null,
            "max_width": null,
            "min_height": null,
            "min_width": null,
            "object_fit": null,
            "object_position": null,
            "order": null,
            "overflow": null,
            "overflow_x": null,
            "overflow_y": null,
            "padding": null,
            "right": null,
            "top": null,
            "visibility": null,
            "width": null
          }
        },
        "34b7c238fb8646dfb469445cd60b965d": {
          "model_module": "@jupyter-widgets/controls",
          "model_name": "DescriptionStyleModel",
          "model_module_version": "1.5.0",
          "state": {
            "_model_module": "@jupyter-widgets/controls",
            "_model_module_version": "1.5.0",
            "_model_name": "DescriptionStyleModel",
            "_view_count": null,
            "_view_module": "@jupyter-widgets/base",
            "_view_module_version": "1.2.0",
            "_view_name": "StyleView",
            "description_width": ""
          }
        },
        "af72e157173e4ae8be140bcaecfdf6f6": {
          "model_module": "@jupyter-widgets/controls",
          "model_name": "HBoxModel",
          "model_module_version": "1.5.0",
          "state": {
            "_dom_classes": [],
            "_model_module": "@jupyter-widgets/controls",
            "_model_module_version": "1.5.0",
            "_model_name": "HBoxModel",
            "_view_count": null,
            "_view_module": "@jupyter-widgets/controls",
            "_view_module_version": "1.5.0",
            "_view_name": "HBoxView",
            "box_style": "",
            "children": [
              "IPY_MODEL_be8fc6c06f164adcb30e7b2ad3d40949",
              "IPY_MODEL_32ad7615e52d4d5da451982f3f8a0ca5",
              "IPY_MODEL_6d504b03d7ff4d9682157e8f088ac366"
            ],
            "layout": "IPY_MODEL_7f4151e67f3940b295eba4613a9ed94a"
          }
        },
        "be8fc6c06f164adcb30e7b2ad3d40949": {
          "model_module": "@jupyter-widgets/controls",
          "model_name": "HTMLModel",
          "model_module_version": "1.5.0",
          "state": {
            "_dom_classes": [],
            "_model_module": "@jupyter-widgets/controls",
            "_model_module_version": "1.5.0",
            "_model_name": "HTMLModel",
            "_view_count": null,
            "_view_module": "@jupyter-widgets/controls",
            "_view_module_version": "1.5.0",
            "_view_name": "HTMLView",
            "description": "",
            "description_tooltip": null,
            "layout": "IPY_MODEL_57010564c9314098a53148f8e083d50d",
            "placeholder": "​",
            "style": "IPY_MODEL_bd5a6ffa81ed42fcb38c67a6c6080dfb",
            "value": "tokenizer_config.json: 100%"
          }
        },
        "32ad7615e52d4d5da451982f3f8a0ca5": {
          "model_module": "@jupyter-widgets/controls",
          "model_name": "FloatProgressModel",
          "model_module_version": "1.5.0",
          "state": {
            "_dom_classes": [],
            "_model_module": "@jupyter-widgets/controls",
            "_model_module_version": "1.5.0",
            "_model_name": "FloatProgressModel",
            "_view_count": null,
            "_view_module": "@jupyter-widgets/controls",
            "_view_module_version": "1.5.0",
            "_view_name": "ProgressView",
            "bar_style": "success",
            "description": "",
            "description_tooltip": null,
            "layout": "IPY_MODEL_d98252689aee4869b9893bab13a02787",
            "max": 54528,
            "min": 0,
            "orientation": "horizontal",
            "style": "IPY_MODEL_df54afa3f4b1495d995057c822fc26db",
            "value": 54528
          }
        },
        "6d504b03d7ff4d9682157e8f088ac366": {
          "model_module": "@jupyter-widgets/controls",
          "model_name": "HTMLModel",
          "model_module_version": "1.5.0",
          "state": {
            "_dom_classes": [],
            "_model_module": "@jupyter-widgets/controls",
            "_model_module_version": "1.5.0",
            "_model_name": "HTMLModel",
            "_view_count": null,
            "_view_module": "@jupyter-widgets/controls",
            "_view_module_version": "1.5.0",
            "_view_name": "HTMLView",
            "description": "",
            "description_tooltip": null,
            "layout": "IPY_MODEL_84952c13158b44eba29854a9d34d2b33",
            "placeholder": "​",
            "style": "IPY_MODEL_8616bb04202a416dbaab0d53b5d5f302",
            "value": " 54.5k/54.5k [00:00&lt;00:00, 2.75MB/s]"
          }
        },
        "7f4151e67f3940b295eba4613a9ed94a": {
          "model_module": "@jupyter-widgets/base",
          "model_name": "LayoutModel",
          "model_module_version": "1.2.0",
          "state": {
            "_model_module": "@jupyter-widgets/base",
            "_model_module_version": "1.2.0",
            "_model_name": "LayoutModel",
            "_view_count": null,
            "_view_module": "@jupyter-widgets/base",
            "_view_module_version": "1.2.0",
            "_view_name": "LayoutView",
            "align_content": null,
            "align_items": null,
            "align_self": null,
            "border": null,
            "bottom": null,
            "display": null,
            "flex": null,
            "flex_flow": null,
            "grid_area": null,
            "grid_auto_columns": null,
            "grid_auto_flow": null,
            "grid_auto_rows": null,
            "grid_column": null,
            "grid_gap": null,
            "grid_row": null,
            "grid_template_areas": null,
            "grid_template_columns": null,
            "grid_template_rows": null,
            "height": null,
            "justify_content": null,
            "justify_items": null,
            "left": null,
            "margin": null,
            "max_height": null,
            "max_width": null,
            "min_height": null,
            "min_width": null,
            "object_fit": null,
            "object_position": null,
            "order": null,
            "overflow": null,
            "overflow_x": null,
            "overflow_y": null,
            "padding": null,
            "right": null,
            "top": null,
            "visibility": null,
            "width": null
          }
        },
        "57010564c9314098a53148f8e083d50d": {
          "model_module": "@jupyter-widgets/base",
          "model_name": "LayoutModel",
          "model_module_version": "1.2.0",
          "state": {
            "_model_module": "@jupyter-widgets/base",
            "_model_module_version": "1.2.0",
            "_model_name": "LayoutModel",
            "_view_count": null,
            "_view_module": "@jupyter-widgets/base",
            "_view_module_version": "1.2.0",
            "_view_name": "LayoutView",
            "align_content": null,
            "align_items": null,
            "align_self": null,
            "border": null,
            "bottom": null,
            "display": null,
            "flex": null,
            "flex_flow": null,
            "grid_area": null,
            "grid_auto_columns": null,
            "grid_auto_flow": null,
            "grid_auto_rows": null,
            "grid_column": null,
            "grid_gap": null,
            "grid_row": null,
            "grid_template_areas": null,
            "grid_template_columns": null,
            "grid_template_rows": null,
            "height": null,
            "justify_content": null,
            "justify_items": null,
            "left": null,
            "margin": null,
            "max_height": null,
            "max_width": null,
            "min_height": null,
            "min_width": null,
            "object_fit": null,
            "object_position": null,
            "order": null,
            "overflow": null,
            "overflow_x": null,
            "overflow_y": null,
            "padding": null,
            "right": null,
            "top": null,
            "visibility": null,
            "width": null
          }
        },
        "bd5a6ffa81ed42fcb38c67a6c6080dfb": {
          "model_module": "@jupyter-widgets/controls",
          "model_name": "DescriptionStyleModel",
          "model_module_version": "1.5.0",
          "state": {
            "_model_module": "@jupyter-widgets/controls",
            "_model_module_version": "1.5.0",
            "_model_name": "DescriptionStyleModel",
            "_view_count": null,
            "_view_module": "@jupyter-widgets/base",
            "_view_module_version": "1.2.0",
            "_view_name": "StyleView",
            "description_width": ""
          }
        },
        "d98252689aee4869b9893bab13a02787": {
          "model_module": "@jupyter-widgets/base",
          "model_name": "LayoutModel",
          "model_module_version": "1.2.0",
          "state": {
            "_model_module": "@jupyter-widgets/base",
            "_model_module_version": "1.2.0",
            "_model_name": "LayoutModel",
            "_view_count": null,
            "_view_module": "@jupyter-widgets/base",
            "_view_module_version": "1.2.0",
            "_view_name": "LayoutView",
            "align_content": null,
            "align_items": null,
            "align_self": null,
            "border": null,
            "bottom": null,
            "display": null,
            "flex": null,
            "flex_flow": null,
            "grid_area": null,
            "grid_auto_columns": null,
            "grid_auto_flow": null,
            "grid_auto_rows": null,
            "grid_column": null,
            "grid_gap": null,
            "grid_row": null,
            "grid_template_areas": null,
            "grid_template_columns": null,
            "grid_template_rows": null,
            "height": null,
            "justify_content": null,
            "justify_items": null,
            "left": null,
            "margin": null,
            "max_height": null,
            "max_width": null,
            "min_height": null,
            "min_width": null,
            "object_fit": null,
            "object_position": null,
            "order": null,
            "overflow": null,
            "overflow_x": null,
            "overflow_y": null,
            "padding": null,
            "right": null,
            "top": null,
            "visibility": null,
            "width": null
          }
        },
        "df54afa3f4b1495d995057c822fc26db": {
          "model_module": "@jupyter-widgets/controls",
          "model_name": "ProgressStyleModel",
          "model_module_version": "1.5.0",
          "state": {
            "_model_module": "@jupyter-widgets/controls",
            "_model_module_version": "1.5.0",
            "_model_name": "ProgressStyleModel",
            "_view_count": null,
            "_view_module": "@jupyter-widgets/base",
            "_view_module_version": "1.2.0",
            "_view_name": "StyleView",
            "bar_color": null,
            "description_width": ""
          }
        },
        "84952c13158b44eba29854a9d34d2b33": {
          "model_module": "@jupyter-widgets/base",
          "model_name": "LayoutModel",
          "model_module_version": "1.2.0",
          "state": {
            "_model_module": "@jupyter-widgets/base",
            "_model_module_version": "1.2.0",
            "_model_name": "LayoutModel",
            "_view_count": null,
            "_view_module": "@jupyter-widgets/base",
            "_view_module_version": "1.2.0",
            "_view_name": "LayoutView",
            "align_content": null,
            "align_items": null,
            "align_self": null,
            "border": null,
            "bottom": null,
            "display": null,
            "flex": null,
            "flex_flow": null,
            "grid_area": null,
            "grid_auto_columns": null,
            "grid_auto_flow": null,
            "grid_auto_rows": null,
            "grid_column": null,
            "grid_gap": null,
            "grid_row": null,
            "grid_template_areas": null,
            "grid_template_columns": null,
            "grid_template_rows": null,
            "height": null,
            "justify_content": null,
            "justify_items": null,
            "left": null,
            "margin": null,
            "max_height": null,
            "max_width": null,
            "min_height": null,
            "min_width": null,
            "object_fit": null,
            "object_position": null,
            "order": null,
            "overflow": null,
            "overflow_x": null,
            "overflow_y": null,
            "padding": null,
            "right": null,
            "top": null,
            "visibility": null,
            "width": null
          }
        },
        "8616bb04202a416dbaab0d53b5d5f302": {
          "model_module": "@jupyter-widgets/controls",
          "model_name": "DescriptionStyleModel",
          "model_module_version": "1.5.0",
          "state": {
            "_model_module": "@jupyter-widgets/controls",
            "_model_module_version": "1.5.0",
            "_model_name": "DescriptionStyleModel",
            "_view_count": null,
            "_view_module": "@jupyter-widgets/base",
            "_view_module_version": "1.2.0",
            "_view_name": "StyleView",
            "description_width": ""
          }
        },
        "301671f1ffa44332a9ff7dcfc5b49106": {
          "model_module": "@jupyter-widgets/controls",
          "model_name": "HBoxModel",
          "model_module_version": "1.5.0",
          "state": {
            "_dom_classes": [],
            "_model_module": "@jupyter-widgets/controls",
            "_model_module_version": "1.5.0",
            "_model_name": "HBoxModel",
            "_view_count": null,
            "_view_module": "@jupyter-widgets/controls",
            "_view_module_version": "1.5.0",
            "_view_name": "HBoxView",
            "box_style": "",
            "children": [
              "IPY_MODEL_325e128682cf45ec97104668d2473758",
              "IPY_MODEL_e820143f3f954fe6937bf268cbf4a9cb",
              "IPY_MODEL_99d9fce74c09455083cd65acf3c0af29"
            ],
            "layout": "IPY_MODEL_4b65a86e14174da985d6ecb20440b899"
          }
        },
        "325e128682cf45ec97104668d2473758": {
          "model_module": "@jupyter-widgets/controls",
          "model_name": "HTMLModel",
          "model_module_version": "1.5.0",
          "state": {
            "_dom_classes": [],
            "_model_module": "@jupyter-widgets/controls",
            "_model_module_version": "1.5.0",
            "_model_name": "HTMLModel",
            "_view_count": null,
            "_view_module": "@jupyter-widgets/controls",
            "_view_module_version": "1.5.0",
            "_view_name": "HTMLView",
            "description": "",
            "description_tooltip": null,
            "layout": "IPY_MODEL_4080336b3de3487b93db084ef3e3f506",
            "placeholder": "​",
            "style": "IPY_MODEL_9500000458124e7eaac6e334cd95188c",
            "value": "tokenizer.json: 100%"
          }
        },
        "e820143f3f954fe6937bf268cbf4a9cb": {
          "model_module": "@jupyter-widgets/controls",
          "model_name": "FloatProgressModel",
          "model_module_version": "1.5.0",
          "state": {
            "_dom_classes": [],
            "_model_module": "@jupyter-widgets/controls",
            "_model_module_version": "1.5.0",
            "_model_name": "FloatProgressModel",
            "_view_count": null,
            "_view_module": "@jupyter-widgets/controls",
            "_view_module_version": "1.5.0",
            "_view_name": "ProgressView",
            "bar_style": "success",
            "description": "",
            "description_tooltip": null,
            "layout": "IPY_MODEL_df5eb5ced6044e74a04f3ee59b5acf2d",
            "max": 9085657,
            "min": 0,
            "orientation": "horizontal",
            "style": "IPY_MODEL_dad1b578a5e84d93b55b9fc85eb63288",
            "value": 9085657
          }
        },
        "99d9fce74c09455083cd65acf3c0af29": {
          "model_module": "@jupyter-widgets/controls",
          "model_name": "HTMLModel",
          "model_module_version": "1.5.0",
          "state": {
            "_dom_classes": [],
            "_model_module": "@jupyter-widgets/controls",
            "_model_module_version": "1.5.0",
            "_model_name": "HTMLModel",
            "_view_count": null,
            "_view_module": "@jupyter-widgets/controls",
            "_view_module_version": "1.5.0",
            "_view_name": "HTMLView",
            "description": "",
            "description_tooltip": null,
            "layout": "IPY_MODEL_852b79a0cc134007a6b7dfc52e6ac4ab",
            "placeholder": "​",
            "style": "IPY_MODEL_a2e87895f32e41b3aed691360d4fad50",
            "value": " 9.09M/9.09M [00:00&lt;00:00, 17.7MB/s]"
          }
        },
        "4b65a86e14174da985d6ecb20440b899": {
          "model_module": "@jupyter-widgets/base",
          "model_name": "LayoutModel",
          "model_module_version": "1.2.0",
          "state": {
            "_model_module": "@jupyter-widgets/base",
            "_model_module_version": "1.2.0",
            "_model_name": "LayoutModel",
            "_view_count": null,
            "_view_module": "@jupyter-widgets/base",
            "_view_module_version": "1.2.0",
            "_view_name": "LayoutView",
            "align_content": null,
            "align_items": null,
            "align_self": null,
            "border": null,
            "bottom": null,
            "display": null,
            "flex": null,
            "flex_flow": null,
            "grid_area": null,
            "grid_auto_columns": null,
            "grid_auto_flow": null,
            "grid_auto_rows": null,
            "grid_column": null,
            "grid_gap": null,
            "grid_row": null,
            "grid_template_areas": null,
            "grid_template_columns": null,
            "grid_template_rows": null,
            "height": null,
            "justify_content": null,
            "justify_items": null,
            "left": null,
            "margin": null,
            "max_height": null,
            "max_width": null,
            "min_height": null,
            "min_width": null,
            "object_fit": null,
            "object_position": null,
            "order": null,
            "overflow": null,
            "overflow_x": null,
            "overflow_y": null,
            "padding": null,
            "right": null,
            "top": null,
            "visibility": null,
            "width": null
          }
        },
        "4080336b3de3487b93db084ef3e3f506": {
          "model_module": "@jupyter-widgets/base",
          "model_name": "LayoutModel",
          "model_module_version": "1.2.0",
          "state": {
            "_model_module": "@jupyter-widgets/base",
            "_model_module_version": "1.2.0",
            "_model_name": "LayoutModel",
            "_view_count": null,
            "_view_module": "@jupyter-widgets/base",
            "_view_module_version": "1.2.0",
            "_view_name": "LayoutView",
            "align_content": null,
            "align_items": null,
            "align_self": null,
            "border": null,
            "bottom": null,
            "display": null,
            "flex": null,
            "flex_flow": null,
            "grid_area": null,
            "grid_auto_columns": null,
            "grid_auto_flow": null,
            "grid_auto_rows": null,
            "grid_column": null,
            "grid_gap": null,
            "grid_row": null,
            "grid_template_areas": null,
            "grid_template_columns": null,
            "grid_template_rows": null,
            "height": null,
            "justify_content": null,
            "justify_items": null,
            "left": null,
            "margin": null,
            "max_height": null,
            "max_width": null,
            "min_height": null,
            "min_width": null,
            "object_fit": null,
            "object_position": null,
            "order": null,
            "overflow": null,
            "overflow_x": null,
            "overflow_y": null,
            "padding": null,
            "right": null,
            "top": null,
            "visibility": null,
            "width": null
          }
        },
        "9500000458124e7eaac6e334cd95188c": {
          "model_module": "@jupyter-widgets/controls",
          "model_name": "DescriptionStyleModel",
          "model_module_version": "1.5.0",
          "state": {
            "_model_module": "@jupyter-widgets/controls",
            "_model_module_version": "1.5.0",
            "_model_name": "DescriptionStyleModel",
            "_view_count": null,
            "_view_module": "@jupyter-widgets/base",
            "_view_module_version": "1.2.0",
            "_view_name": "StyleView",
            "description_width": ""
          }
        },
        "df5eb5ced6044e74a04f3ee59b5acf2d": {
          "model_module": "@jupyter-widgets/base",
          "model_name": "LayoutModel",
          "model_module_version": "1.2.0",
          "state": {
            "_model_module": "@jupyter-widgets/base",
            "_model_module_version": "1.2.0",
            "_model_name": "LayoutModel",
            "_view_count": null,
            "_view_module": "@jupyter-widgets/base",
            "_view_module_version": "1.2.0",
            "_view_name": "LayoutView",
            "align_content": null,
            "align_items": null,
            "align_self": null,
            "border": null,
            "bottom": null,
            "display": null,
            "flex": null,
            "flex_flow": null,
            "grid_area": null,
            "grid_auto_columns": null,
            "grid_auto_flow": null,
            "grid_auto_rows": null,
            "grid_column": null,
            "grid_gap": null,
            "grid_row": null,
            "grid_template_areas": null,
            "grid_template_columns": null,
            "grid_template_rows": null,
            "height": null,
            "justify_content": null,
            "justify_items": null,
            "left": null,
            "margin": null,
            "max_height": null,
            "max_width": null,
            "min_height": null,
            "min_width": null,
            "object_fit": null,
            "object_position": null,
            "order": null,
            "overflow": null,
            "overflow_x": null,
            "overflow_y": null,
            "padding": null,
            "right": null,
            "top": null,
            "visibility": null,
            "width": null
          }
        },
        "dad1b578a5e84d93b55b9fc85eb63288": {
          "model_module": "@jupyter-widgets/controls",
          "model_name": "ProgressStyleModel",
          "model_module_version": "1.5.0",
          "state": {
            "_model_module": "@jupyter-widgets/controls",
            "_model_module_version": "1.5.0",
            "_model_name": "ProgressStyleModel",
            "_view_count": null,
            "_view_module": "@jupyter-widgets/base",
            "_view_module_version": "1.2.0",
            "_view_name": "StyleView",
            "bar_color": null,
            "description_width": ""
          }
        },
        "852b79a0cc134007a6b7dfc52e6ac4ab": {
          "model_module": "@jupyter-widgets/base",
          "model_name": "LayoutModel",
          "model_module_version": "1.2.0",
          "state": {
            "_model_module": "@jupyter-widgets/base",
            "_model_module_version": "1.2.0",
            "_model_name": "LayoutModel",
            "_view_count": null,
            "_view_module": "@jupyter-widgets/base",
            "_view_module_version": "1.2.0",
            "_view_name": "LayoutView",
            "align_content": null,
            "align_items": null,
            "align_self": null,
            "border": null,
            "bottom": null,
            "display": null,
            "flex": null,
            "flex_flow": null,
            "grid_area": null,
            "grid_auto_columns": null,
            "grid_auto_flow": null,
            "grid_auto_rows": null,
            "grid_column": null,
            "grid_gap": null,
            "grid_row": null,
            "grid_template_areas": null,
            "grid_template_columns": null,
            "grid_template_rows": null,
            "height": null,
            "justify_content": null,
            "justify_items": null,
            "left": null,
            "margin": null,
            "max_height": null,
            "max_width": null,
            "min_height": null,
            "min_width": null,
            "object_fit": null,
            "object_position": null,
            "order": null,
            "overflow": null,
            "overflow_x": null,
            "overflow_y": null,
            "padding": null,
            "right": null,
            "top": null,
            "visibility": null,
            "width": null
          }
        },
        "a2e87895f32e41b3aed691360d4fad50": {
          "model_module": "@jupyter-widgets/controls",
          "model_name": "DescriptionStyleModel",
          "model_module_version": "1.5.0",
          "state": {
            "_model_module": "@jupyter-widgets/controls",
            "_model_module_version": "1.5.0",
            "_model_name": "DescriptionStyleModel",
            "_view_count": null,
            "_view_module": "@jupyter-widgets/base",
            "_view_module_version": "1.2.0",
            "_view_name": "StyleView",
            "description_width": ""
          }
        },
        "73749c79019a4b6898131256f67c7550": {
          "model_module": "@jupyter-widgets/controls",
          "model_name": "HBoxModel",
          "model_module_version": "1.5.0",
          "state": {
            "_dom_classes": [],
            "_model_module": "@jupyter-widgets/controls",
            "_model_module_version": "1.5.0",
            "_model_name": "HBoxModel",
            "_view_count": null,
            "_view_module": "@jupyter-widgets/controls",
            "_view_module_version": "1.5.0",
            "_view_name": "HBoxView",
            "box_style": "",
            "children": [
              "IPY_MODEL_77c4db1829014ed3beb4a2a419aa7cdd",
              "IPY_MODEL_fe38fb647bfe4daea5f16507fccda20e",
              "IPY_MODEL_3caf7a417eca4686b62ce61f4f66a0b0"
            ],
            "layout": "IPY_MODEL_3434347d3d464e51a0ac8782fb796ce7"
          }
        },
        "77c4db1829014ed3beb4a2a419aa7cdd": {
          "model_module": "@jupyter-widgets/controls",
          "model_name": "HTMLModel",
          "model_module_version": "1.5.0",
          "state": {
            "_dom_classes": [],
            "_model_module": "@jupyter-widgets/controls",
            "_model_module_version": "1.5.0",
            "_model_name": "HTMLModel",
            "_view_count": null,
            "_view_module": "@jupyter-widgets/controls",
            "_view_module_version": "1.5.0",
            "_view_name": "HTMLView",
            "description": "",
            "description_tooltip": null,
            "layout": "IPY_MODEL_1ddf7ae0ce8f4f51888cfc7fdce2079d",
            "placeholder": "​",
            "style": "IPY_MODEL_7d4f9c79bd45407fa56349ba8049519b",
            "value": "special_tokens_map.json: 100%"
          }
        },
        "fe38fb647bfe4daea5f16507fccda20e": {
          "model_module": "@jupyter-widgets/controls",
          "model_name": "FloatProgressModel",
          "model_module_version": "1.5.0",
          "state": {
            "_dom_classes": [],
            "_model_module": "@jupyter-widgets/controls",
            "_model_module_version": "1.5.0",
            "_model_name": "FloatProgressModel",
            "_view_count": null,
            "_view_module": "@jupyter-widgets/controls",
            "_view_module_version": "1.5.0",
            "_view_name": "ProgressView",
            "bar_style": "success",
            "description": "",
            "description_tooltip": null,
            "layout": "IPY_MODEL_5c1976a72996403eb8a3c0383e02326f",
            "max": 296,
            "min": 0,
            "orientation": "horizontal",
            "style": "IPY_MODEL_0fd7f67e2c4d4e46b06c2899f7941853",
            "value": 296
          }
        },
        "3caf7a417eca4686b62ce61f4f66a0b0": {
          "model_module": "@jupyter-widgets/controls",
          "model_name": "HTMLModel",
          "model_module_version": "1.5.0",
          "state": {
            "_dom_classes": [],
            "_model_module": "@jupyter-widgets/controls",
            "_model_module_version": "1.5.0",
            "_model_name": "HTMLModel",
            "_view_count": null,
            "_view_module": "@jupyter-widgets/controls",
            "_view_module_version": "1.5.0",
            "_view_name": "HTMLView",
            "description": "",
            "description_tooltip": null,
            "layout": "IPY_MODEL_fdd311df1a4e4668ae66e3d118baf3cf",
            "placeholder": "​",
            "style": "IPY_MODEL_ecef6e8a0c524b5d870725c8a30778c0",
            "value": " 296/296 [00:00&lt;00:00, 36.3kB/s]"
          }
        },
        "3434347d3d464e51a0ac8782fb796ce7": {
          "model_module": "@jupyter-widgets/base",
          "model_name": "LayoutModel",
          "model_module_version": "1.2.0",
          "state": {
            "_model_module": "@jupyter-widgets/base",
            "_model_module_version": "1.2.0",
            "_model_name": "LayoutModel",
            "_view_count": null,
            "_view_module": "@jupyter-widgets/base",
            "_view_module_version": "1.2.0",
            "_view_name": "LayoutView",
            "align_content": null,
            "align_items": null,
            "align_self": null,
            "border": null,
            "bottom": null,
            "display": null,
            "flex": null,
            "flex_flow": null,
            "grid_area": null,
            "grid_auto_columns": null,
            "grid_auto_flow": null,
            "grid_auto_rows": null,
            "grid_column": null,
            "grid_gap": null,
            "grid_row": null,
            "grid_template_areas": null,
            "grid_template_columns": null,
            "grid_template_rows": null,
            "height": null,
            "justify_content": null,
            "justify_items": null,
            "left": null,
            "margin": null,
            "max_height": null,
            "max_width": null,
            "min_height": null,
            "min_width": null,
            "object_fit": null,
            "object_position": null,
            "order": null,
            "overflow": null,
            "overflow_x": null,
            "overflow_y": null,
            "padding": null,
            "right": null,
            "top": null,
            "visibility": null,
            "width": null
          }
        },
        "1ddf7ae0ce8f4f51888cfc7fdce2079d": {
          "model_module": "@jupyter-widgets/base",
          "model_name": "LayoutModel",
          "model_module_version": "1.2.0",
          "state": {
            "_model_module": "@jupyter-widgets/base",
            "_model_module_version": "1.2.0",
            "_model_name": "LayoutModel",
            "_view_count": null,
            "_view_module": "@jupyter-widgets/base",
            "_view_module_version": "1.2.0",
            "_view_name": "LayoutView",
            "align_content": null,
            "align_items": null,
            "align_self": null,
            "border": null,
            "bottom": null,
            "display": null,
            "flex": null,
            "flex_flow": null,
            "grid_area": null,
            "grid_auto_columns": null,
            "grid_auto_flow": null,
            "grid_auto_rows": null,
            "grid_column": null,
            "grid_gap": null,
            "grid_row": null,
            "grid_template_areas": null,
            "grid_template_columns": null,
            "grid_template_rows": null,
            "height": null,
            "justify_content": null,
            "justify_items": null,
            "left": null,
            "margin": null,
            "max_height": null,
            "max_width": null,
            "min_height": null,
            "min_width": null,
            "object_fit": null,
            "object_position": null,
            "order": null,
            "overflow": null,
            "overflow_x": null,
            "overflow_y": null,
            "padding": null,
            "right": null,
            "top": null,
            "visibility": null,
            "width": null
          }
        },
        "7d4f9c79bd45407fa56349ba8049519b": {
          "model_module": "@jupyter-widgets/controls",
          "model_name": "DescriptionStyleModel",
          "model_module_version": "1.5.0",
          "state": {
            "_model_module": "@jupyter-widgets/controls",
            "_model_module_version": "1.5.0",
            "_model_name": "DescriptionStyleModel",
            "_view_count": null,
            "_view_module": "@jupyter-widgets/base",
            "_view_module_version": "1.2.0",
            "_view_name": "StyleView",
            "description_width": ""
          }
        },
        "5c1976a72996403eb8a3c0383e02326f": {
          "model_module": "@jupyter-widgets/base",
          "model_name": "LayoutModel",
          "model_module_version": "1.2.0",
          "state": {
            "_model_module": "@jupyter-widgets/base",
            "_model_module_version": "1.2.0",
            "_model_name": "LayoutModel",
            "_view_count": null,
            "_view_module": "@jupyter-widgets/base",
            "_view_module_version": "1.2.0",
            "_view_name": "LayoutView",
            "align_content": null,
            "align_items": null,
            "align_self": null,
            "border": null,
            "bottom": null,
            "display": null,
            "flex": null,
            "flex_flow": null,
            "grid_area": null,
            "grid_auto_columns": null,
            "grid_auto_flow": null,
            "grid_auto_rows": null,
            "grid_column": null,
            "grid_gap": null,
            "grid_row": null,
            "grid_template_areas": null,
            "grid_template_columns": null,
            "grid_template_rows": null,
            "height": null,
            "justify_content": null,
            "justify_items": null,
            "left": null,
            "margin": null,
            "max_height": null,
            "max_width": null,
            "min_height": null,
            "min_width": null,
            "object_fit": null,
            "object_position": null,
            "order": null,
            "overflow": null,
            "overflow_x": null,
            "overflow_y": null,
            "padding": null,
            "right": null,
            "top": null,
            "visibility": null,
            "width": null
          }
        },
        "0fd7f67e2c4d4e46b06c2899f7941853": {
          "model_module": "@jupyter-widgets/controls",
          "model_name": "ProgressStyleModel",
          "model_module_version": "1.5.0",
          "state": {
            "_model_module": "@jupyter-widgets/controls",
            "_model_module_version": "1.5.0",
            "_model_name": "ProgressStyleModel",
            "_view_count": null,
            "_view_module": "@jupyter-widgets/base",
            "_view_module_version": "1.2.0",
            "_view_name": "StyleView",
            "bar_color": null,
            "description_width": ""
          }
        },
        "fdd311df1a4e4668ae66e3d118baf3cf": {
          "model_module": "@jupyter-widgets/base",
          "model_name": "LayoutModel",
          "model_module_version": "1.2.0",
          "state": {
            "_model_module": "@jupyter-widgets/base",
            "_model_module_version": "1.2.0",
            "_model_name": "LayoutModel",
            "_view_count": null,
            "_view_module": "@jupyter-widgets/base",
            "_view_module_version": "1.2.0",
            "_view_name": "LayoutView",
            "align_content": null,
            "align_items": null,
            "align_self": null,
            "border": null,
            "bottom": null,
            "display": null,
            "flex": null,
            "flex_flow": null,
            "grid_area": null,
            "grid_auto_columns": null,
            "grid_auto_flow": null,
            "grid_auto_rows": null,
            "grid_column": null,
            "grid_gap": null,
            "grid_row": null,
            "grid_template_areas": null,
            "grid_template_columns": null,
            "grid_template_rows": null,
            "height": null,
            "justify_content": null,
            "justify_items": null,
            "left": null,
            "margin": null,
            "max_height": null,
            "max_width": null,
            "min_height": null,
            "min_width": null,
            "object_fit": null,
            "object_position": null,
            "order": null,
            "overflow": null,
            "overflow_x": null,
            "overflow_y": null,
            "padding": null,
            "right": null,
            "top": null,
            "visibility": null,
            "width": null
          }
        },
        "ecef6e8a0c524b5d870725c8a30778c0": {
          "model_module": "@jupyter-widgets/controls",
          "model_name": "DescriptionStyleModel",
          "model_module_version": "1.5.0",
          "state": {
            "_model_module": "@jupyter-widgets/controls",
            "_model_module_version": "1.5.0",
            "_model_name": "DescriptionStyleModel",
            "_view_count": null,
            "_view_module": "@jupyter-widgets/base",
            "_view_module_version": "1.2.0",
            "_view_name": "StyleView",
            "description_width": ""
          }
        }
      }
    }
  },
  "nbformat": 4,
  "nbformat_minor": 0
}